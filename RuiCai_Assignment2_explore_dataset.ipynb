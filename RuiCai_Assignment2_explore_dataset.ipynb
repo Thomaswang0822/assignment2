{
 "cells": [
  {
   "cell_type": "code",
   "execution_count": 201,
   "id": "8e823a6c",
   "metadata": {},
   "outputs": [],
   "source": [
    "import gzip\n",
    "import math\n",
    "import random\n",
    "from collections import defaultdict\n",
    "import pandas as pd\n",
    "import matplotlib.pyplot as plt\n",
    "import numpy as np\n",
    "from matplotlib import colors\n",
    "from matplotlib.ticker import PercentFormatter"
   ]
  },
  {
   "cell_type": "code",
   "execution_count": 202,
   "id": "f37be2df",
   "metadata": {},
   "outputs": [],
   "source": [
    "def parseData(fname, lines=100, limit=True):\n",
    "    count = 0\n",
    "    for l in open(fname, \"rt\"):\n",
    "        count += 1\n",
    "        yield eval(l)\n",
    "        if limit and count > lines:\n",
    "            break"
   ]
  },
  {
   "cell_type": "code",
   "execution_count": 203,
   "id": "7161ef66",
   "metadata": {},
   "outputs": [],
   "source": [
    "fileName = \"reviews.json\""
   ]
  },
  {
   "cell_type": "code",
   "execution_count": 204,
   "id": "f623511c",
   "metadata": {},
   "outputs": [],
   "source": [
    "dataDir = \"/Users/cairui/Downloads/lthing_data/\""
   ]
  },
  {
   "cell_type": "code",
   "execution_count": 205,
   "id": "a478694a",
   "metadata": {},
   "outputs": [],
   "source": [
    "originalDataset = list(parseData(dataDir + fileName, limit=False))"
   ]
  },
  {
   "cell_type": "code",
   "execution_count": 206,
   "id": "f9439de3",
   "metadata": {},
   "outputs": [
    {
     "data": {
      "text/plain": [
       "1707070"
      ]
     },
     "execution_count": 206,
     "metadata": {},
     "output_type": "execute_result"
    }
   ],
   "source": [
    "len(originalDataset)"
   ]
  },
  {
   "cell_type": "code",
   "execution_count": 207,
   "id": "6bb7724f",
   "metadata": {},
   "outputs": [
    {
     "data": {
      "text/plain": [
       "{'work': '3206242',\n",
       " 'flags': [],\n",
       " 'unixtime': 1194393600,\n",
       " 'stars': 5.0,\n",
       " 'nhelpful': 0,\n",
       " 'time': 'Nov 7, 2007',\n",
       " 'comment': 'This a great book for young readers to be introduced to the world of Middle Earth. ',\n",
       " 'user': 'van_stef'}"
      ]
     },
     "execution_count": 207,
     "metadata": {},
     "output_type": "execute_result"
    }
   ],
   "source": [
    "originalDataset[0]"
   ]
  },
  {
   "cell_type": "code",
   "execution_count": 208,
   "id": "0ba85ae4",
   "metadata": {},
   "outputs": [],
   "source": [
    "count = 0\n",
    "relations = []\n",
    "for l in open(dataDir + \"edges.txt\"):\n",
    "    u,i = l.strip().split(' ')\n",
    "    relations.append((u, i))\n",
    "    count += 1\n",
    "#     if count == 10: break"
   ]
  },
  {
   "cell_type": "code",
   "execution_count": 209,
   "id": "1b94a8a6",
   "metadata": {},
   "outputs": [
    {
     "data": {
      "text/plain": [
       "[('Rodo', 'anehan'),\n",
       " ('Rodo', 'sevilemar'),\n",
       " ('Rodo', 'dingsi'),\n",
       " ('Rodo', 'slash'),\n",
       " ('RelaxedReader', 'AnnRig'),\n",
       " ('RelaxedReader', 'bookbroke'),\n",
       " ('RelaxedReader', 'Bumpersmom'),\n",
       " ('RelaxedReader', 'DivaColumbus'),\n",
       " ('RelaxedReader', 'AnnRig'),\n",
       " ('RelaxedReader', 'bookbroke')]"
      ]
     },
     "execution_count": 209,
     "metadata": {},
     "output_type": "execute_result"
    }
   ],
   "source": [
    "relations[:10]"
   ]
  },
  {
   "cell_type": "markdown",
   "id": "bc16b839",
   "metadata": {},
   "source": [
    "## 1. Identify Dataset and perform an exploratory analysis of the data"
   ]
  },
  {
   "cell_type": "code",
   "execution_count": 210,
   "id": "9a3d47ea",
   "metadata": {},
   "outputs": [],
   "source": [
    "count = 0\n",
    "for d in originalDataset:\n",
    "    if not 'stars' in d:\n",
    "        count += 1"
   ]
  },
  {
   "cell_type": "code",
   "execution_count": 211,
   "id": "555032ec",
   "metadata": {},
   "outputs": [
    {
     "data": {
      "text/plain": [
       "319861"
      ]
     },
     "execution_count": 211,
     "metadata": {},
     "output_type": "execute_result"
    }
   ],
   "source": [
    "count"
   ]
  },
  {
   "cell_type": "markdown",
   "id": "fca56b41",
   "metadata": {},
   "source": [
    "### There are 319861 reviews in the dataset which doesn't have a 'stars' field"
   ]
  },
  {
   "cell_type": "code",
   "execution_count": 212,
   "id": "80ba6264",
   "metadata": {},
   "outputs": [],
   "source": [
    "# dataset = [d for d in originalDataset if 'stars' in d]\n",
    "dataset = originalDataset"
   ]
  },
  {
   "cell_type": "code",
   "execution_count": 213,
   "id": "4152050b",
   "metadata": {},
   "outputs": [
    {
     "data": {
      "text/plain": [
       "1707070"
      ]
     },
     "execution_count": 213,
     "metadata": {},
     "output_type": "execute_result"
    }
   ],
   "source": [
    "len(dataset)"
   ]
  },
  {
   "cell_type": "code",
   "execution_count": 214,
   "id": "07fe364e",
   "metadata": {},
   "outputs": [],
   "source": [
    "usersPerItem = defaultdict(set) # Maps an item to the users who rated it\n",
    "itemsPerUser = defaultdict(set) # Maps a user to the items that they rated\n",
    "ratingDict = {} # To retrieve a rating for a specific user/item pair\n",
    "\n",
    "for d in dataset:\n",
    "    user,item = d['user'], d['work']\n",
    "    usersPerItem[item].add(user)\n",
    "    itemsPerUser[user].add(item)\n",
    "    if 'stars' in d:\n",
    "        ratingDict[(user,item)] = d['stars']\n",
    "    "
   ]
  },
  {
   "cell_type": "code",
   "execution_count": 215,
   "id": "e9923170",
   "metadata": {},
   "outputs": [
    {
     "data": {
      "text/plain": [
       "83195"
      ]
     },
     "execution_count": 215,
     "metadata": {},
     "output_type": "execute_result"
    }
   ],
   "source": [
    "len(itemsPerUser)"
   ]
  },
  {
   "cell_type": "code",
   "execution_count": 216,
   "id": "b2255df9",
   "metadata": {},
   "outputs": [
    {
     "data": {
      "text/plain": [
       "506165"
      ]
     },
     "execution_count": 216,
     "metadata": {},
     "output_type": "execute_result"
    }
   ],
   "source": [
    "len(usersPerItem)"
   ]
  },
  {
   "cell_type": "markdown",
   "id": "18d7624d",
   "metadata": {},
   "source": [
    "### Let's see some statistics of the ratings and its distribution"
   ]
  },
  {
   "cell_type": "code",
   "execution_count": 217,
   "id": "00aef997",
   "metadata": {},
   "outputs": [],
   "source": [
    "ratings = [d['stars'] for d in dataset if 'stars' in d]"
   ]
  },
  {
   "cell_type": "code",
   "execution_count": 218,
   "id": "56526ee0",
   "metadata": {},
   "outputs": [
    {
     "name": "stdout",
     "output_type": "stream",
     "text": [
      "Average rating is: 3.8054164873497793\n",
      "The median of rating is: 4.0\n"
     ]
    }
   ],
   "source": [
    "averageRating = np.average(ratings)\n",
    "medianRating = np.median(ratings)\n",
    "print(\"Average rating is:\", averageRating)\n",
    "print(\"The median of rating is:\", medianRating)"
   ]
  },
  {
   "cell_type": "code",
   "execution_count": 219,
   "id": "b23016f5",
   "metadata": {},
   "outputs": [
    {
     "data": {
      "image/png": "[encoded data removed]",
      "text/plain": [
       "<Figure size 432x288 with 1 Axes>"
      ]
     },
     "metadata": {
      "needs_background": "light"
     },
     "output_type": "display_data"
    }
   ],
   "source": [
    "plt.hist(ratings, density=False, bins=10)  # density=False would make counts\n",
    "plt.ylabel('Occurances')\n",
    "plt.xlabel('Ratings');"
   ]
  },
  {
   "cell_type": "code",
   "execution_count": 220,
   "id": "04a7c5bd",
   "metadata": {},
   "outputs": [],
   "source": [
    "userAverages = {}\n",
    "itemAverages = {}\n",
    "\n",
    "for u in itemsPerUser:\n",
    "    rs = [ratingDict[(u,i)] for i in itemsPerUser[u] if (u, i) in ratingDict]\n",
    "    if len(rs) != 0:\n",
    "        userAverages[u] = sum(rs) / len(rs)\n",
    "    else:\n",
    "        userAverages[u] = averageRating\n",
    "    \n",
    "    \n",
    "for i in usersPerItem:\n",
    "    rs = [ratingDict[(u,i)] for u in usersPerItem[i] if (u, i) in ratingDict]\n",
    "    if len(rs) != 0:\n",
    "        itemAverages[i] = sum(rs) / len(rs)\n",
    "    else:\n",
    "        itemAverages[i] = averageRating"
   ]
  },
  {
   "cell_type": "markdown",
   "id": "e22b4977",
   "metadata": {},
   "source": [
    "### There is also a 'flags' field in data, let's see what it's about\n",
    "seems like it's flags about whether the review is legit"
   ]
  },
  {
   "cell_type": "code",
   "execution_count": 221,
   "id": "66e43d2f",
   "metadata": {},
   "outputs": [],
   "source": [
    "flags = [d['flags'] for d in dataset if d['flags'] != []]"
   ]
  },
  {
   "cell_type": "code",
   "execution_count": 222,
   "id": "0e3adbd9",
   "metadata": {},
   "outputs": [
    {
     "data": {
      "text/plain": [
       "[['not_a_review'],\n",
       " ['not_a_review'],\n",
       " ['not_a_review'],\n",
       " ['abuse', 'not_a_review'],\n",
       " ['abuse'],\n",
       " ['abuse'],\n",
       " ['not_a_review'],\n",
       " ['not_a_review'],\n",
       " ['not_a_review'],\n",
       " ['not_a_review']]"
      ]
     },
     "execution_count": 222,
     "metadata": {},
     "output_type": "execute_result"
    }
   ],
   "source": [
    "flags[:10]"
   ]
  },
  {
   "cell_type": "code",
   "execution_count": 223,
   "id": "7bbe054d",
   "metadata": {},
   "outputs": [
    {
     "data": {
      "text/plain": [
       "71120"
      ]
     },
     "execution_count": 223,
     "metadata": {},
     "output_type": "execute_result"
    }
   ],
   "source": [
    "len(flags)"
   ]
  },
  {
   "cell_type": "code",
   "execution_count": 224,
   "id": "50676e7f",
   "metadata": {},
   "outputs": [],
   "source": [
    "flagsSet = set()\n",
    "for f in flags:\n",
    "    for f1 in f:\n",
    "        flagsSet.add(f1)"
   ]
  },
  {
   "cell_type": "code",
   "execution_count": 225,
   "id": "a768645b",
   "metadata": {},
   "outputs": [
    {
     "data": {
      "text/plain": [
       "{'abuse', 'not_a_review'}"
      ]
     },
     "execution_count": 225,
     "metadata": {},
     "output_type": "execute_result"
    }
   ],
   "source": [
    "flagsSet"
   ]
  },
  {
   "cell_type": "markdown",
   "id": "5db99090",
   "metadata": {},
   "source": [
    "### Check how many reviews have non-zero 'nhelpful'"
   ]
  },
  {
   "cell_type": "code",
   "execution_count": 226,
   "id": "784957b6",
   "metadata": {},
   "outputs": [],
   "source": [
    "nhelpful = [d['nhelpful'] for d in dataset]"
   ]
  },
  {
   "cell_type": "code",
   "execution_count": 227,
   "id": "2b19b63f",
   "metadata": {},
   "outputs": [],
   "source": [
    "nonZeroNhelpful = [d['nhelpful'] for d in dataset if d['nhelpful'] != 0]"
   ]
  },
  {
   "cell_type": "code",
   "execution_count": 228,
   "id": "737ad878",
   "metadata": {},
   "outputs": [
    {
     "data": {
      "text/plain": [
       "181099"
      ]
     },
     "execution_count": 228,
     "metadata": {},
     "output_type": "execute_result"
    }
   ],
   "source": [
    "len(nonZeroNhelpful)"
   ]
  },
  {
   "cell_type": "code",
   "execution_count": 229,
   "id": "321418f5",
   "metadata": {},
   "outputs": [
    {
     "data": {
      "text/plain": [
       "0.17973721054203987"
      ]
     },
     "execution_count": 229,
     "metadata": {},
     "output_type": "execute_result"
    }
   ],
   "source": [
    "np.average(nhelpful)"
   ]
  },
  {
   "cell_type": "code",
   "execution_count": 230,
   "id": "aaf0a1fe",
   "metadata": {},
   "outputs": [
    {
     "data": {
      "text/plain": [
       "0.0"
      ]
     },
     "execution_count": 230,
     "metadata": {},
     "output_type": "execute_result"
    }
   ],
   "source": [
    "np.median(nhelpful)"
   ]
  },
  {
   "cell_type": "code",
   "execution_count": 231,
   "id": "a24120d7",
   "metadata": {},
   "outputs": [
    {
     "data": {
      "image/png": "[encoded data removed]",
      "text/plain": [
       "<Figure size 432x288 with 1 Axes>"
      ]
     },
     "metadata": {
      "needs_background": "light"
     },
     "output_type": "display_data"
    }
   ],
   "source": [
    "plt.hist(nhelpful, density=False, bins=10)  # density=False would make counts\n",
    "plt.ylabel('Occurances')\n",
    "plt.xlabel('nhelpful');"
   ]
  },
  {
   "cell_type": "code",
   "execution_count": 232,
   "id": "56aed784",
   "metadata": {},
   "outputs": [
    {
     "data": {
      "text/plain": [
       "332"
      ]
     },
     "execution_count": 232,
     "metadata": {},
     "output_type": "execute_result"
    }
   ],
   "source": [
    "max(nonZeroNhelpful)"
   ]
  },
  {
   "cell_type": "code",
   "execution_count": 233,
   "id": "eb652dbf",
   "metadata": {},
   "outputs": [
    {
     "data": {
      "image/png": "[encoded data removed]",
      "text/plain": [
       "<Figure size 432x288 with 1 Axes>"
      ]
     },
     "metadata": {
      "needs_background": "light"
     },
     "output_type": "display_data"
    }
   ],
   "source": [
    "plt.hist(nonZeroNhelpful, density=False, bins=100)  # density=False would make counts\n",
    "plt.ylabel('Occurances')\n",
    "plt.xlabel('nhelpful');"
   ]
  },
  {
   "cell_type": "code",
   "execution_count": 234,
   "id": "1cdde54a",
   "metadata": {},
   "outputs": [],
   "source": [
    "time = [d['unixtime'] for d in dataset if 'unixtime' in d and d['unixtime'] != None and d['unixtime'] != -86400]"
   ]
  },
  {
   "cell_type": "code",
   "execution_count": 235,
   "id": "7ca47d7b",
   "metadata": {},
   "outputs": [
    {
     "data": {
      "text/plain": [
       "1124582400"
      ]
     },
     "execution_count": 235,
     "metadata": {},
     "output_type": "execute_result"
    }
   ],
   "source": [
    "min(time)"
   ]
  },
  {
   "cell_type": "code",
   "execution_count": 236,
   "id": "61acb9ba",
   "metadata": {},
   "outputs": [
    {
     "data": {
      "text/plain": [
       "1377475200"
      ]
     },
     "execution_count": 236,
     "metadata": {},
     "output_type": "execute_result"
    }
   ],
   "source": [
    "max(time)"
   ]
  },
  {
   "cell_type": "code",
   "execution_count": 237,
   "id": "1f188dcb",
   "metadata": {},
   "outputs": [
    {
     "data": {
      "image/png": "[encoded data removed]",
      "text/plain": [
       "<Figure size 432x288 with 1 Axes>"
      ]
     },
     "metadata": {
      "needs_background": "light"
     },
     "output_type": "display_data"
    }
   ],
   "source": [
    "plt.hist(time, density=False, bins=100)  # density=False would make counts\n",
    "plt.ylabel('Occurances')\n",
    "plt.xlabel('nhelpful');"
   ]
  },
  {
   "cell_type": "code",
   "execution_count": null,
   "id": "984c1905",
   "metadata": {},
   "outputs": [],
   "source": []
  },
  {
   "cell_type": "code",
   "execution_count": null,
   "id": "c662e239",
   "metadata": {},
   "outputs": [],
   "source": []
  }
 ],
 "metadata": {
  "kernelspec": {
   "display_name": "Python 3 (ipykernel)",
   "language": "python",
   "name": "python3"
  },
  "language_info": {
   "codemirror_mode": {
    "name": "ipython",
    "version": 3
   },
   "file_extension": ".py",
   "mimetype": "text/x-python",
   "name": "python",
   "nbconvert_exporter": "python",
   "pygments_lexer": "ipython3",
   "version": "3.9.7"
  }
 },
 "nbformat": 4,
 "nbformat_minor": 5
}
