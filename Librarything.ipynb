{
 "cells": [
  {
   "cell_type": "code",
   "execution_count": 1,
   "id": "ae742945",
   "metadata": {},
   "outputs": [],
   "source": [
    "import gzip\n",
    "from collections import defaultdict\n",
    "import math\n",
    "import scipy.optimize\n",
    "import numpy\n",
    "import string\n",
    "import random\n",
    "from sklearn import linear_model\n",
    "import dateutil.parser as parser\n",
    "import numpy as np\n",
    "from matplotlib import pyplot as plt"
   ]
  },
  {
   "cell_type": "code",
   "execution_count": 6,
   "id": "599788fe",
   "metadata": {},
   "outputs": [
    {
     "name": "stdout",
     "output_type": "stream",
     "text": [
      "Rodo anehan\n",
      "\n",
      "Rodo sevilemar\n",
      "\n",
      "Rodo dingsi\n",
      "\n",
      "Rodo slash\n",
      "\n",
      "RelaxedReader AnnRig\n",
      "\n",
      "RelaxedReader bookbroke\n",
      "\n",
      "RelaxedReader Bumpersmom\n",
      "\n",
      "RelaxedReader DivaColumbus\n",
      "\n",
      "RelaxedReader AnnRig\n",
      "\n",
      "RelaxedReader bookbroke\n",
      "\n"
     ]
    },
    {
     "data": {
      "text/plain": [
       "219790"
      ]
     },
     "execution_count": 6,
     "metadata": {},
     "output_type": "execute_result"
    }
   ],
   "source": [
    "f = open(\"./lthing_data/edges.txt\", 'r')\n",
    "count = 0\n",
    "for line in f:\n",
    "    if count < 10:\n",
    "        print(line)\n",
    "    count += 1\n",
    "\n",
    "f.close()\n",
    "count"
   ]
  },
  {
   "cell_type": "code",
   "execution_count": 4,
   "id": "f936ed09",
   "metadata": {},
   "outputs": [],
   "source": [
    "def parse(path):\n",
    "    g = open(path, 'r')\n",
    "    for l in g:\n",
    "        yield eval(l)"
   ]
  },
  {
   "cell_type": "code",
   "execution_count": 7,
   "id": "6a0192dc",
   "metadata": {},
   "outputs": [
    {
     "name": "stdout",
     "output_type": "stream",
     "text": [
      "Total number of reviews with a rating: 1387209\n"
     ]
    },
    {
     "data": {
      "text/plain": [
       "{'work': '12198649',\n",
       " 'flags': [],\n",
       " 'unixtime': 1333756800,\n",
       " 'stars': 5.0,\n",
       " 'nhelpful': 0,\n",
       " 'time': 'Apr 7, 2012',\n",
       " 'comment': 'Help Wanted: Tales of On The Job Terror from Evil Jester Press is a fun and scary read. This book is edited by Peter Giglio and has short stories by Joe McKinney, Gary Brandner, Henry Snider and many more. As if work wasnt already scary enough, this book gives you more reasons to be scared. Help Wanted is an excellent anthology that includes some great stories by some master storytellers.\\nOne of the stories includes Agnes: A Love Story by David C. Hayes, which tells the tale of a lawyer named Jack who feels unappreciated at work and by his wife so he starts a relationship with a photocopier. They get along well until the photocopier starts wanting the lawyer to kill for it. The thing I liked about this story was how the author makes you feel sorry for Jack. His two co-workers are happily married and love their jobs while Jack is married to a paranoid alcoholic and he hates and works at a job he cant stand. You completely understand how he can fall in love with a copier because he is a lonely soul that no one understands except the copier of course.\\nAnother story in Help Wanted is Work Life Balance by Jeff Strand. In this story a man works for a company that starts to let their employees do what they want at work. It starts with letting them come to work a little later than usual, then the employees are allowed to hug and kiss on the job. Things get really out of hand though when the company starts letting employees carry knives and stab each other, as long as it doesnt interfere with their job. This story is meant to be more funny then scary but still has its scary moments. Jeff Strand does a great job mixing humor and horror in this story.\\nAnother good story in Help Wanted: On The Job Terror is The Chapel Of Unrest by Stephen Volk. This is a gothic horror story that takes place in the 1800s and has to deal with an undertaker who has the duty of capturing and embalming a ghoul who has been eating dead bodies in a graveyard. Stephen Volk through his use of imagery in describing the graveyard, the chapel and the clothes of the time, transports you into an 1800s gothic setting that reminded me of Bram Stokers Dracula.\\nOne more story in this anthology that I have to mention is Expulsion by Eric Shapiro which tells the tale of a mad man going into a office to kill his fellow employees. This is a very short but very powerful story that gets you into the mind of a disgruntled employee but manages to end on a positive note. Though there were stories I didnt like in Help Wanted, all in all its a very good anthology. I highly recommend this book ',\n",
       " 'user': 'dwatson2'}"
      ]
     },
     "execution_count": 7,
     "metadata": {},
     "output_type": "execute_result"
    }
   ],
   "source": [
    "count = 0\n",
    "data = []\n",
    "\n",
    "for d in parse(\"./lthing_data/reviews.json\"):\n",
    "    # filter review without rating\n",
    "    if 'stars' not in d: continue\n",
    "    \n",
    "    \"\"\"# handle normal review (majority) and 'abuse' or 'not a review' flag\n",
    "    if not d['flags']:\n",
    "        d['flags'] = 0\n",
    "    else:\n",
    "        d['flags'] = 1\"\"\"\n",
    "    \n",
    "    # train and test\n",
    "    data.append(d)\n",
    "    count += 1\n",
    "\n",
    "print(f\"Total number of reviews with a rating: {count}\")\n",
    "data[1]"
   ]
  },
  {
   "cell_type": "code",
   "execution_count": 8,
   "id": "d7a7dcb8",
   "metadata": {},
   "outputs": [],
   "source": [
    "# 8:2 train-test split\n",
    "cut = int(count * 0.8)\n",
    "train_data, test_data = data[:cut], data[cut:]\n",
    "del data # save memory"
   ]
  },
  {
   "cell_type": "markdown",
   "id": "93b131ec",
   "metadata": {},
   "source": [
    "### Populate useful data structures."
   ]
  },
  {
   "cell_type": "code",
   "execution_count": 10,
   "id": "602cc34f",
   "metadata": {},
   "outputs": [
    {
     "name": "stdout",
     "output_type": "stream",
     "text": [
      "3.765420038215221 4.833333333333131\n"
     ]
    }
   ],
   "source": [
    "usersPerItem = defaultdict(set)\n",
    "itemsPerUser = defaultdict(set)\n",
    "\n",
    "# very likely to have same ratings, so use list\n",
    "ratingsPerItem = defaultdict(list)\n",
    "ratingsPerUser = defaultdict(list)\n",
    "\n",
    "for d in train_data:\n",
    "    u, i, r = d['user'], d['work'], d['stars']\n",
    "    usersPerItem[i].add(u)\n",
    "    itemsPerUser[u].add(i)\n",
    "    ratingsPerItem[i].append(r)\n",
    "    ratingsPerUser[u].append(r)\n",
    "\n",
    "# calculate 2 global averages for cold-start user or book: average of each user's/book's average ratings\n",
    "avgBookRating = sum( sum(ratingsPerItem[i])/len(ratingsPerItem[i]) for i in ratingsPerItem)/len(ratingsPerItem)\n",
    "avgUserRating = sum( sum(ratingsPerUser[u])/len(ratingsPerUser[u]) for i in ratingsPerUser)/len(ratingsPerUser)\n",
    "\n",
    "print(avgBookRating, avgUserRating)"
   ]
  },
  {
   "cell_type": "markdown",
   "id": "0119e762",
   "metadata": {},
   "source": [
    "# baseline model"
   ]
  },
  {
   "cell_type": "markdown",
   "id": "f78b5b8a",
   "metadata": {},
   "source": [
    "### A relevant simple baseline that predicts rating based on the average rating given by a user, and the average rating received by a book."
   ]
  },
  {
   "cell_type": "code",
   "execution_count": 11,
   "id": "1278631e",
   "metadata": {},
   "outputs": [],
   "source": [
    "def feature_baseline(d):\n",
    "    global avgBookRating, avgUserRating\n",
    "    result = [1] # bias term\n",
    "    u, i = d['user'], d['work']\n",
    "    if u in ratingsPerUser:\n",
    "        result.append( sum(ratingsPerUser[u]) / len(ratingsPerUser[u]) )\n",
    "    else:\n",
    "        result.append(avgUserRating)\n",
    "    if i in ratingsPerItem:\n",
    "        result.append( sum(ratingsPerItem[i]) / len(ratingsPerItem[i]) )\n",
    "    else:\n",
    "        result.append(avgBookRating)\n",
    "    return result"
   ]
  },
  {
   "cell_type": "code",
   "execution_count": 25,
   "id": "da479360",
   "metadata": {},
   "outputs": [],
   "source": [
    "Xtrain_baseline = np.array( [feature_baseline(d) for d in train_data] )\n",
    "Xtest_baseline = np.array( [feature_baseline(d) for d in test_data] )\n",
    "\n",
    "Ytrain = np.array( [d['stars'] for d in train_data] )\n",
    "Ytest = np.array( [d['stars'] for d in test_data] )"
   ]
  },
  {
   "cell_type": "code",
   "execution_count": 26,
   "id": "cda878ed",
   "metadata": {},
   "outputs": [
    {
     "data": {
      "text/plain": [
       "array([3.82830107, 3.38181352, 3.98358366, ..., 3.6640496 , 3.55440923,\n",
       "       4.53077375])"
      ]
     },
     "execution_count": 26,
     "metadata": {},
     "output_type": "execute_result"
    }
   ],
   "source": [
    "model_baseline = linear_model.LinearRegression()\n",
    "model_baseline.fit(Xtrain_baseline, Ytrain)\n",
    "\n",
    "Ypred_baseline = model_baseline.predict(Xtest_baseline)\n",
    "Ypred_baseline"
   ]
  },
  {
   "cell_type": "code",
   "execution_count": 22,
   "id": "2a41185e",
   "metadata": {},
   "outputs": [],
   "source": [
    "def MSE(Y1, Y2):\n",
    "    return np.mean( (Y1-Y2)**2 )"
   ]
  },
  {
   "cell_type": "code",
   "execution_count": 23,
   "id": "0c4b4839",
   "metadata": {},
   "outputs": [
    {
     "data": {
      "text/plain": [
       "0.8524583817615936"
      ]
     },
     "execution_count": 23,
     "metadata": {},
     "output_type": "execute_result"
    }
   ],
   "source": [
    "# Check MSE\n",
    "MSE(Ypred_baseline, Ytest)"
   ]
  },
  {
   "cell_type": "code",
   "execution_count": 27,
   "id": "f5c100f1",
   "metadata": {},
   "outputs": [
    {
     "data": {
      "text/plain": [
       "1.032778022073082"
      ]
     },
     "execution_count": 27,
     "metadata": {},
     "output_type": "execute_result"
    }
   ],
   "source": [
    "# Compare it to a even more trivial baseline: always predict median 4.0\n",
    "MSE([4.0]*len(Ytest), Ytest)"
   ]
  },
  {
   "cell_type": "code",
   "execution_count": 28,
   "id": "06eeaa80",
   "metadata": {},
   "outputs": [
    {
     "name": "stdout",
     "output_type": "stream",
     "text": [
      "TP:85927, FP:18265, TN:85927, FN:91745\n",
      "Accuracy:0.6034846922960475, BER:0.3524270181301432\n"
     ]
    }
   ],
   "source": [
    "# Check binary error rate, see report section 2\n",
    "TP = sum( np.logical_and(Ypred_baseline>=4.0, Ytest>=4.0) )\n",
    "FP = sum( np.logical_and(Ypred_baseline>=4.0, Ytest<4.0) )\n",
    "TN = sum( np.logical_and(Ypred_baseline<4.0, Ytest<4.0) )\n",
    "FN = sum( np.logical_and(Ypred_baseline<4.0, Ytest>=4.0) )\n",
    "\n",
    "assert TP+FP+TN+FN == len(Ytest)\n",
    "\n",
    "Accuracy = (TP + TN) / len(Ytest)\n",
    "BER = 1 - 0.5*(TP / (TP + FN) + TN / (TN + FP))\n",
    "print(f\"TP:{TN}, FP:{FP}, TN:{TN}, FN:{FN}\")\n",
    "print(f\"Accuracy:{Accuracy}, BER:{BER}\")"
   ]
  },
  {
   "cell_type": "code",
   "execution_count": null,
   "id": "0bfb83c2",
   "metadata": {},
   "outputs": [],
   "source": []
  },
  {
   "cell_type": "code",
   "execution_count": null,
   "id": "936f9f62",
   "metadata": {},
   "outputs": [],
   "source": []
  },
  {
   "cell_type": "code",
   "execution_count": null,
   "id": "b481fb97",
   "metadata": {},
   "outputs": [],
   "source": []
  },
  {
   "cell_type": "code",
   "execution_count": null,
   "id": "031793fe",
   "metadata": {},
   "outputs": [],
   "source": []
  }
 ],
 "metadata": {
  "kernelspec": {
   "display_name": "Python 3",
   "language": "python",
   "name": "python3"
  },
  "language_info": {
   "codemirror_mode": {
    "name": "ipython",
    "version": 3
   },
   "file_extension": ".py",
   "mimetype": "text/x-python",
   "name": "python",
   "nbconvert_exporter": "python",
   "pygments_lexer": "ipython3",
   "version": "3.8.8"
  }
 },
 "nbformat": 4,
 "nbformat_minor": 5
}
