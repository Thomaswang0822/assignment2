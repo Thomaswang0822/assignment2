{
 "cells": [
  {
   "cell_type": "code",
   "execution_count": 88,
   "id": "8e823a6c",
   "metadata": {},
   "outputs": [],
   "source": [
    "import gzip\n",
    "import math\n",
    "import random\n",
    "from collections import defaultdict\n",
    "import pandas as pd\n",
    "import matplotlib.pyplot as plt\n",
    "import numpy as np\n",
    "from matplotlib import colors\n",
    "from matplotlib.ticker import PercentFormatter\n",
    "import tensorflow as tf\n",
    "from sklearn import linear_model"
   ]
  },
  {
   "cell_type": "code",
   "execution_count": 2,
   "id": "f37be2df",
   "metadata": {},
   "outputs": [],
   "source": [
    "def parseData(fname, lines=100, limit=True):\n",
    "    count = 0\n",
    "    for l in open(fname, \"rt\"):\n",
    "        count += 1\n",
    "        yield eval(l)\n",
    "        if limit and count > lines:\n",
    "            break"
   ]
  },
  {
   "cell_type": "code",
   "execution_count": 3,
   "id": "7161ef66",
   "metadata": {},
   "outputs": [],
   "source": [
    "fileName = \"reviews.json\""
   ]
  },
  {
   "cell_type": "code",
   "execution_count": 4,
   "id": "f623511c",
   "metadata": {},
   "outputs": [],
   "source": [
    "dataDir = \"/Users/cairui/Downloads/lthing_data/\""
   ]
  },
  {
   "cell_type": "code",
   "execution_count": 5,
   "id": "a478694a",
   "metadata": {},
   "outputs": [],
   "source": [
    "originalDataset = list(parseData(dataDir + fileName, limit=False))"
   ]
  },
  {
   "cell_type": "code",
   "execution_count": 6,
   "id": "416e5b39",
   "metadata": {},
   "outputs": [
    {
     "data": {
      "text/plain": [
       "1707070"
      ]
     },
     "execution_count": 6,
     "metadata": {},
     "output_type": "execute_result"
    }
   ],
   "source": [
    "len(originalDataset)"
   ]
  },
  {
   "cell_type": "code",
   "execution_count": 7,
   "id": "dc88ba45",
   "metadata": {},
   "outputs": [
    {
     "data": {
      "text/plain": [
       "{'work': '3206242',\n",
       " 'flags': [],\n",
       " 'unixtime': 1194393600,\n",
       " 'stars': 5.0,\n",
       " 'nhelpful': 0,\n",
       " 'time': 'Nov 7, 2007',\n",
       " 'comment': 'This a great book for young readers to be introduced to the world of Middle Earth. ',\n",
       " 'user': 'van_stef'}"
      ]
     },
     "execution_count": 7,
     "metadata": {},
     "output_type": "execute_result"
    }
   ],
   "source": [
    "originalDataset[0]"
   ]
  },
  {
   "cell_type": "code",
   "execution_count": 20,
   "id": "08b5f139",
   "metadata": {},
   "outputs": [],
   "source": [
    "test = [d for d in originalDataset if 'stars' in d and d['stars'] == 4.5]"
   ]
  },
  {
   "cell_type": "code",
   "execution_count": 179,
   "id": "c804fa1b",
   "metadata": {},
   "outputs": [
    {
     "data": {
      "text/plain": [
       "219790"
      ]
     },
     "execution_count": 179,
     "metadata": {},
     "output_type": "execute_result"
    }
   ],
   "source": [
    "len(relations)"
   ]
  },
  {
   "cell_type": "code",
   "execution_count": 8,
   "id": "09c1a444",
   "metadata": {},
   "outputs": [],
   "source": [
    "count = 0\n",
    "relations = []\n",
    "for l in open(dataDir + \"edges.txt\"):\n",
    "    u,i = l.strip().split(' ')\n",
    "    relations.append((u, i))\n",
    "    count += 1\n",
    "#     if count == 10: break"
   ]
  },
  {
   "cell_type": "code",
   "execution_count": 9,
   "id": "e38a9184",
   "metadata": {},
   "outputs": [
    {
     "data": {
      "text/plain": [
       "[('Rodo', 'anehan'),\n",
       " ('Rodo', 'sevilemar'),\n",
       " ('Rodo', 'dingsi'),\n",
       " ('Rodo', 'slash'),\n",
       " ('RelaxedReader', 'AnnRig'),\n",
       " ('RelaxedReader', 'bookbroke'),\n",
       " ('RelaxedReader', 'Bumpersmom'),\n",
       " ('RelaxedReader', 'DivaColumbus'),\n",
       " ('RelaxedReader', 'AnnRig'),\n",
       " ('RelaxedReader', 'bookbroke')]"
      ]
     },
     "execution_count": 9,
     "metadata": {},
     "output_type": "execute_result"
    }
   ],
   "source": [
    "relations[:10]"
   ]
  },
  {
   "cell_type": "code",
   "execution_count": 69,
   "id": "35aa07a1",
   "metadata": {},
   "outputs": [],
   "source": [
    "userIDs = {}\n",
    "itemIDs = {}\n",
    "interactions = []\n",
    "interactionsWithRating = []\n",
    "interactionsPerUser = defaultdict(list)\n",
    "\n",
    "for d in originalDataset:\n",
    "    u = d['user']\n",
    "    i = d['work']\n",
    "    t = d['unixtime']\n",
    "    if t == None or t == -86400: continue\n",
    "    if not u in userIDs: userIDs[u] = len(userIDs)\n",
    "    if not i in itemIDs: itemIDs[i] = len(itemIDs)\n",
    "    interactions.append((t,u,i))\n",
    "    interactionsPerUser[u].append((t,i))\n",
    "    if ('stars' in d and d['stars'] != None): \n",
    "        interactionsWithRating.append((t, u, i, d['stars']))"
   ]
  },
  {
   "cell_type": "code",
   "execution_count": 13,
   "id": "99042940",
   "metadata": {},
   "outputs": [],
   "source": [
    "relationUserIDs = set()\n",
    "for r in relations:\n",
    "    relationUserIDs.add(r[0])\n",
    "    relationUserIDs.add(r[1])"
   ]
  },
  {
   "cell_type": "code",
   "execution_count": 14,
   "id": "f53bc3b7",
   "metadata": {},
   "outputs": [
    {
     "data": {
      "text/plain": [
       "65946"
      ]
     },
     "execution_count": 14,
     "metadata": {},
     "output_type": "execute_result"
    }
   ],
   "source": [
    "len(relationUserIDs)"
   ]
  },
  {
   "cell_type": "code",
   "execution_count": 16,
   "id": "52a09ad3",
   "metadata": {},
   "outputs": [
    {
     "data": {
      "text/plain": [
       "82833"
      ]
     },
     "execution_count": 16,
     "metadata": {},
     "output_type": "execute_result"
    }
   ],
   "source": [
    "len(userIDs)"
   ]
  },
  {
   "cell_type": "code",
   "execution_count": 17,
   "id": "da178594",
   "metadata": {},
   "outputs": [],
   "source": [
    "bothUser = [u for u in relationUserIDs if u in userIDs]"
   ]
  },
  {
   "cell_type": "code",
   "execution_count": 18,
   "id": "07ceaa0a",
   "metadata": {},
   "outputs": [
    {
     "data": {
      "text/plain": [
       "28593"
      ]
     },
     "execution_count": 18,
     "metadata": {},
     "output_type": "execute_result"
    }
   ],
   "source": [
    "len(bothUser)"
   ]
  },
  {
   "cell_type": "code",
   "execution_count": 180,
   "id": "a013eb80",
   "metadata": {},
   "outputs": [
    {
     "name": "stdout",
     "output_type": "stream",
     "text": [
      "129307\n",
      "24096\n"
     ]
    }
   ],
   "source": [
    "relationCount = 0\n",
    "bothUser = set()\n",
    "for u1, u2 in relations:\n",
    "    if u1 in userIDs and u2 in userIDs:\n",
    "        relationCount += 1\n",
    "        bothUser.add(u1)\n",
    "        bothUser.add(u2)\n",
    "print(userCount)\n",
    "print(len(bothUser))"
   ]
  },
  {
   "cell_type": "markdown",
   "id": "adb0d9a3",
   "metadata": {},
   "source": [
    "# FPMC"
   ]
  },
  {
   "cell_type": "code",
   "execution_count": 32,
   "id": "f466e701",
   "metadata": {},
   "outputs": [
    {
     "data": {
      "text/plain": [
       "(1194393600, 'van_stef', '3206242')"
      ]
     },
     "execution_count": 32,
     "metadata": {},
     "output_type": "execute_result"
    }
   ],
   "source": [
    "interactions[0]"
   ]
  },
  {
   "cell_type": "code",
   "execution_count": 33,
   "id": "ad549a79",
   "metadata": {},
   "outputs": [
    {
     "data": {
      "text/plain": [
       "1701037"
      ]
     },
     "execution_count": 33,
     "metadata": {},
     "output_type": "execute_result"
    }
   ],
   "source": [
    "len(interactions)"
   ]
  },
  {
   "cell_type": "code",
   "execution_count": 36,
   "id": "a4654440",
   "metadata": {},
   "outputs": [],
   "source": [
    "interactions.sort()"
   ]
  },
  {
   "cell_type": "code",
   "execution_count": 37,
   "id": "6afcf241",
   "metadata": {},
   "outputs": [],
   "source": [
    "itemIDs['dummy'] = len(itemIDs)"
   ]
  },
  {
   "cell_type": "code",
   "execution_count": 38,
   "id": "fdc9e3d4",
   "metadata": {},
   "outputs": [],
   "source": [
    "interactionsWithPrevious = []\n",
    "\n",
    "for u in interactionsPerUser:\n",
    "    interactionsPerUser[u].sort()\n",
    "    lastItem = 'dummy'\n",
    "    for (t,i) in interactionsPerUser[u]:\n",
    "        interactionsWithPrevious.append((t,u,i,lastItem))\n",
    "        lastItem = i"
   ]
  },
  {
   "cell_type": "code",
   "execution_count": 40,
   "id": "02c0b1d9",
   "metadata": {},
   "outputs": [],
   "source": [
    "itemsPerUser = defaultdict(set)\n",
    "for _,u,i in interactions:\n",
    "    itemsPerUser[u].add(i)"
   ]
  },
  {
   "cell_type": "code",
   "execution_count": 41,
   "id": "c31ea7ff",
   "metadata": {},
   "outputs": [],
   "source": [
    "items = list(itemIDs.keys())"
   ]
  },
  {
   "cell_type": "code",
   "execution_count": 44,
   "id": "688a7e8b",
   "metadata": {},
   "outputs": [],
   "source": [
    "optimizer = tf.keras.optimizers.Adam(0.1)"
   ]
  },
  {
   "cell_type": "code",
   "execution_count": 45,
   "id": "eb71d817",
   "metadata": {},
   "outputs": [],
   "source": [
    "class FPMC(tf.keras.Model):\n",
    "    def __init__(self, K, lamb, UI = 1, IJ = 1):\n",
    "        super(FPMC, self).__init__()\n",
    "        # Initialize variables\n",
    "        self.betaI = tf.Variable(tf.random.normal([len(itemIDs)],stddev=0.001))\n",
    "        self.gammaUI = tf.Variable(tf.random.normal([len(userIDs),K],stddev=0.001))\n",
    "        self.gammaIU = tf.Variable(tf.random.normal([len(itemIDs),K],stddev=0.001))\n",
    "        self.gammaIJ = tf.Variable(tf.random.normal([len(itemIDs),K],stddev=0.001))\n",
    "        self.gammaJI = tf.Variable(tf.random.normal([len(itemIDs),K],stddev=0.001))\n",
    "        # Regularization coefficient\n",
    "        self.lamb = lamb\n",
    "        # Which terms to include\n",
    "        self.UI = UI\n",
    "        self.IJ = IJ\n",
    "\n",
    "    # Prediction for a single instance\n",
    "    def predict(self, u, i, j):\n",
    "        p = self.betaI[i] + self.UI * tf.tensordot(self.gammaUI[u], self.gammaIU[i], 1) +\\\n",
    "                            self.IJ * tf.tensordot(self.gammaIJ[i], self.gammaJI[j], 1)\n",
    "        return p\n",
    "\n",
    "    # Regularizer\n",
    "    def reg(self):\n",
    "        return self.lamb * (tf.nn.l2_loss(self.betaI) +\\\n",
    "                            tf.nn.l2_loss(self.gammaUI) +\\\n",
    "                            tf.nn.l2_loss(self.gammaIU) +\\\n",
    "                            tf.nn.l2_loss(self.gammaIJ) +\\\n",
    "                            tf.nn.l2_loss(self.gammaJI))\n",
    "\n",
    "    def call(self, sampleU, # user\n",
    "                   sampleI, # item\n",
    "                   sampleJ, # previous item\n",
    "                   sampleK): # negative item\n",
    "        u = tf.convert_to_tensor(sampleU, dtype=tf.int32)\n",
    "        i = tf.convert_to_tensor(sampleI, dtype=tf.int32)\n",
    "        j = tf.convert_to_tensor(sampleJ, dtype=tf.int32)\n",
    "        k = tf.convert_to_tensor(sampleK, dtype=tf.int32)\n",
    "        gamma_ui = tf.nn.embedding_lookup(self.gammaUI, u)\n",
    "        gamma_iu = tf.nn.embedding_lookup(self.gammaIU, i)\n",
    "        gamma_ij = tf.nn.embedding_lookup(self.gammaIJ, i)\n",
    "        gamma_ji = tf.nn.embedding_lookup(self.gammaJI, j)\n",
    "        beta_i = tf.nn.embedding_lookup(self.betaI, i)\n",
    "        x_uij = beta_i + self.UI * tf.reduce_sum(tf.multiply(gamma_ui, gamma_iu), 1) +\\\n",
    "                         self.IJ * tf.reduce_sum(tf.multiply(gamma_ij, gamma_ji), 1)\n",
    "        gamma_uk = tf.nn.embedding_lookup(self.gammaUI, u)\n",
    "        gamma_ku = tf.nn.embedding_lookup(self.gammaIU, k)\n",
    "        gamma_kj = tf.nn.embedding_lookup(self.gammaIJ, k)\n",
    "        gamma_jk = tf.nn.embedding_lookup(self.gammaJI, j)\n",
    "        beta_k = tf.nn.embedding_lookup(self.betaI, k)\n",
    "        x_ukj = beta_k + self.UI * tf.reduce_sum(tf.multiply(gamma_uk, gamma_ku), 1) +\\\n",
    "                         self.IJ * tf.reduce_sum(tf.multiply(gamma_kj, gamma_jk), 1)\n",
    "        return -tf.reduce_mean(tf.math.log(tf.math.sigmoid(x_uij - x_ukj)))"
   ]
  },
  {
   "cell_type": "code",
   "execution_count": 46,
   "id": "cdb41985",
   "metadata": {},
   "outputs": [],
   "source": [
    "def trainingStep(model, interactions):\n",
    "    with tf.GradientTape() as tape:\n",
    "        sampleU, sampleI, sampleJ, sampleK = [], [], [], []\n",
    "        for _ in range(100000):\n",
    "            _,u,i,j = random.choice(interactions) # positive sample\n",
    "            k = random.choice(items) # negative sample\n",
    "            while k in itemsPerUser[u]:\n",
    "                k = random.choice(items)\n",
    "            sampleU.append(userIDs[u])\n",
    "            sampleI.append(itemIDs[i])\n",
    "            sampleJ.append(itemIDs[j])\n",
    "            sampleK.append(itemIDs[k])\n",
    "\n",
    "        loss = model(sampleU,sampleI,sampleJ,sampleK)\n",
    "        loss += model.reg()\n",
    "    gradients = tape.gradient(loss, model.trainable_variables)\n",
    "    optimizer.apply_gradients((grad, var) for\n",
    "                              (grad, var) in zip(gradients, model.trainable_variables)\n",
    "                              if grad is not None)\n",
    "    return loss.numpy()"
   ]
  },
  {
   "cell_type": "code",
   "execution_count": 48,
   "id": "4fed5ec5",
   "metadata": {},
   "outputs": [
    {
     "data": {
      "text/plain": [
       "(1191024000, 'van_stef', '2259992', 'dummy')"
      ]
     },
     "execution_count": 48,
     "metadata": {},
     "output_type": "execute_result"
    }
   ],
   "source": [
    "interactionsWithPrevious[0]"
   ]
  },
  {
   "cell_type": "code",
   "execution_count": 50,
   "id": "a06ff11b",
   "metadata": {},
   "outputs": [
    {
     "data": {
      "text/plain": [
       "1701037"
      ]
     },
     "execution_count": 50,
     "metadata": {},
     "output_type": "execute_result"
    }
   ],
   "source": [
    "len(interactionsWithPrevious)"
   ]
  },
  {
   "cell_type": "code",
   "execution_count": 51,
   "id": "61d5e4a1",
   "metadata": {},
   "outputs": [],
   "source": [
    "interactionsTrain = interactionsWithPrevious[:1500000]\n",
    "interactionsTest = interactionsWithPrevious[1500000:]"
   ]
  },
  {
   "cell_type": "code",
   "execution_count": 52,
   "id": "0626c721",
   "metadata": {},
   "outputs": [
    {
     "name": "stdout",
     "output_type": "stream",
     "text": [
      "Metal device set to: Apple M1 Pro\n"
     ]
    },
    {
     "name": "stderr",
     "output_type": "stream",
     "text": [
      "2021-11-28 17:34:20.100630: I tensorflow/core/common_runtime/pluggable_device/pluggable_device_factory.cc:305] Could not identify NUMA node of platform GPU ID 0, defaulting to 0. Your kernel may not have been built with NUMA support.\n",
      "2021-11-28 17:34:20.101374: I tensorflow/core/common_runtime/pluggable_device/pluggable_device_factory.cc:271] Created TensorFlow device (/job:localhost/replica:0/task:0/device:GPU:0 with 0 MB memory) -> physical PluggableDevice (device: 0, name: METAL, pci bus id: <undefined>)\n"
     ]
    }
   ],
   "source": [
    "modelFPMC = FPMC(5, 0.001, 1, 1)"
   ]
  },
  {
   "cell_type": "code",
   "execution_count": 58,
   "id": "6b0b98b7",
   "metadata": {},
   "outputs": [],
   "source": [
    "interactionsTestPerUser = defaultdict(set)\n",
    "itemSet = set()\n",
    "for _,u,i,j in interactionsTest:\n",
    "    interactionsTestPerUser[u].add((i,j))\n",
    "    itemSet.add(i)\n",
    "    itemSet.add(j)\n",
    "itemList = list(itemSet)"
   ]
  },
  {
   "cell_type": "code",
   "execution_count": 62,
   "id": "29c5a90d",
   "metadata": {},
   "outputs": [],
   "source": [
    "def AUCu(model, u, N):\n",
    "    win = 0\n",
    "    if N > len(interactionsTestPerUser[u]):\n",
    "        N = len(interactionsTestPerUser[u])\n",
    "    li = list(interactionsTestPerUser[u])\n",
    "    positive = random.sample(li,N)\n",
    "    negative = random.sample(itemList,N)\n",
    "    for (i,j),k in zip(positive,negative):\n",
    "        sp = model.predict(userIDs[u], itemIDs[i], itemIDs[j]).numpy()\n",
    "        sn = model.predict(userIDs[u], itemIDs[k], itemIDs[j]).numpy()\n",
    "        if sp > sn:\n",
    "            win += 1\n",
    "    return win/N"
   ]
  },
  {
   "cell_type": "code",
   "execution_count": 64,
   "id": "5b8390bb",
   "metadata": {},
   "outputs": [],
   "source": [
    "def AUC(model, N):\n",
    "    av = []\n",
    "    count = 0\n",
    "    for u in interactionsTestPerUser:\n",
    "        av.append(AUCu(model, u, 10))\n",
    "        count += 1\n",
    "        if count > N: break\n",
    "    return sum(av) / len(av)"
   ]
  },
  {
   "cell_type": "code",
   "execution_count": 56,
   "id": "3ae29902",
   "metadata": {},
   "outputs": [
    {
     "name": "stdout",
     "output_type": "stream",
     "text": [
      "iteration 10, objective = 1.778976\n",
      "iteration 20, objective = 1.3580587\n",
      "iteration 30, objective = 0.7759166\n",
      "iteration 40, objective = 0.763352\n",
      "iteration 50, objective = 0.7209007\n",
      "iteration 60, objective = 0.70743734\n",
      "iteration 70, objective = 0.7032454\n",
      "iteration 80, objective = 0.7015118\n",
      "iteration 90, objective = 0.7013443\n",
      "iteration 100, objective = 0.7013688\n"
     ]
    }
   ],
   "source": [
    "for i in range(100):\n",
    "    obj = trainingStep(modelFPMC, interactionsTrain)\n",
    "    if (i % 10 == 9): print(\"iteration \" + str(i+1) + \", objective = \" + str(obj))"
   ]
  },
  {
   "cell_type": "code",
   "execution_count": 65,
   "id": "5dce2986",
   "metadata": {},
   "outputs": [
    {
     "ename": "KeyboardInterrupt",
     "evalue": "",
     "output_type": "error",
     "traceback": [
      "\u001b[0;31m---------------------------------------------------------------------------\u001b[0m",
      "\u001b[0;31mKeyboardInterrupt\u001b[0m                         Traceback (most recent call last)",
      "\u001b[0;32m/var/folders/4s/wc56g00n4fqd1v63y_pnch1h0000gn/T/ipykernel_79464/3309193603.py\u001b[0m in \u001b[0;36m<module>\u001b[0;34m\u001b[0m\n\u001b[0;32m----> 1\u001b[0;31m \u001b[0mprint\u001b[0m\u001b[0;34m(\u001b[0m\u001b[0;34m\"AUC = \"\u001b[0m \u001b[0;34m+\u001b[0m \u001b[0mstr\u001b[0m\u001b[0;34m(\u001b[0m\u001b[0mAUC\u001b[0m\u001b[0;34m(\u001b[0m\u001b[0mmodelFPMC\u001b[0m\u001b[0;34m,\u001b[0m \u001b[0;36m100\u001b[0m\u001b[0;34m)\u001b[0m\u001b[0;34m)\u001b[0m\u001b[0;34m)\u001b[0m\u001b[0;34m\u001b[0m\u001b[0;34m\u001b[0m\u001b[0m\n\u001b[0m",
      "\u001b[0;32m/var/folders/4s/wc56g00n4fqd1v63y_pnch1h0000gn/T/ipykernel_79464/800419926.py\u001b[0m in \u001b[0;36mAUC\u001b[0;34m(model, N)\u001b[0m\n\u001b[1;32m      3\u001b[0m     \u001b[0mcount\u001b[0m \u001b[0;34m=\u001b[0m \u001b[0;36m0\u001b[0m\u001b[0;34m\u001b[0m\u001b[0;34m\u001b[0m\u001b[0m\n\u001b[1;32m      4\u001b[0m     \u001b[0;32mfor\u001b[0m \u001b[0mu\u001b[0m \u001b[0;32min\u001b[0m \u001b[0minteractionsTestPerUser\u001b[0m\u001b[0;34m:\u001b[0m\u001b[0;34m\u001b[0m\u001b[0;34m\u001b[0m\u001b[0m\n\u001b[0;32m----> 5\u001b[0;31m         \u001b[0mav\u001b[0m\u001b[0;34m.\u001b[0m\u001b[0mappend\u001b[0m\u001b[0;34m(\u001b[0m\u001b[0mAUCu\u001b[0m\u001b[0;34m(\u001b[0m\u001b[0mmodel\u001b[0m\u001b[0;34m,\u001b[0m \u001b[0mu\u001b[0m\u001b[0;34m,\u001b[0m \u001b[0;36m10\u001b[0m\u001b[0;34m)\u001b[0m\u001b[0;34m)\u001b[0m\u001b[0;34m\u001b[0m\u001b[0;34m\u001b[0m\u001b[0m\n\u001b[0m\u001b[1;32m      6\u001b[0m         \u001b[0mcount\u001b[0m \u001b[0;34m+=\u001b[0m \u001b[0;36m1\u001b[0m\u001b[0;34m\u001b[0m\u001b[0;34m\u001b[0m\u001b[0m\n\u001b[1;32m      7\u001b[0m         \u001b[0;32mif\u001b[0m \u001b[0mcount\u001b[0m \u001b[0;34m>\u001b[0m \u001b[0mN\u001b[0m\u001b[0;34m:\u001b[0m \u001b[0;32mbreak\u001b[0m\u001b[0;34m\u001b[0m\u001b[0;34m\u001b[0m\u001b[0m\n",
      "\u001b[0;32m/var/folders/4s/wc56g00n4fqd1v63y_pnch1h0000gn/T/ipykernel_79464/1122513351.py\u001b[0m in \u001b[0;36mAUCu\u001b[0;34m(model, u, N)\u001b[0m\n\u001b[1;32m      8\u001b[0m     \u001b[0;32mfor\u001b[0m \u001b[0;34m(\u001b[0m\u001b[0mi\u001b[0m\u001b[0;34m,\u001b[0m\u001b[0mj\u001b[0m\u001b[0;34m)\u001b[0m\u001b[0;34m,\u001b[0m\u001b[0mk\u001b[0m \u001b[0;32min\u001b[0m \u001b[0mzip\u001b[0m\u001b[0;34m(\u001b[0m\u001b[0mpositive\u001b[0m\u001b[0;34m,\u001b[0m\u001b[0mnegative\u001b[0m\u001b[0;34m)\u001b[0m\u001b[0;34m:\u001b[0m\u001b[0;34m\u001b[0m\u001b[0;34m\u001b[0m\u001b[0m\n\u001b[1;32m      9\u001b[0m         \u001b[0msp\u001b[0m \u001b[0;34m=\u001b[0m \u001b[0mmodel\u001b[0m\u001b[0;34m.\u001b[0m\u001b[0mpredict\u001b[0m\u001b[0;34m(\u001b[0m\u001b[0muserIDs\u001b[0m\u001b[0;34m[\u001b[0m\u001b[0mu\u001b[0m\u001b[0;34m]\u001b[0m\u001b[0;34m,\u001b[0m \u001b[0mitemIDs\u001b[0m\u001b[0;34m[\u001b[0m\u001b[0mi\u001b[0m\u001b[0;34m]\u001b[0m\u001b[0;34m,\u001b[0m \u001b[0mitemIDs\u001b[0m\u001b[0;34m[\u001b[0m\u001b[0mj\u001b[0m\u001b[0;34m]\u001b[0m\u001b[0;34m)\u001b[0m\u001b[0;34m.\u001b[0m\u001b[0mnumpy\u001b[0m\u001b[0;34m(\u001b[0m\u001b[0;34m)\u001b[0m\u001b[0;34m\u001b[0m\u001b[0;34m\u001b[0m\u001b[0m\n\u001b[0;32m---> 10\u001b[0;31m         \u001b[0msn\u001b[0m \u001b[0;34m=\u001b[0m \u001b[0mmodel\u001b[0m\u001b[0;34m.\u001b[0m\u001b[0mpredict\u001b[0m\u001b[0;34m(\u001b[0m\u001b[0muserIDs\u001b[0m\u001b[0;34m[\u001b[0m\u001b[0mu\u001b[0m\u001b[0;34m]\u001b[0m\u001b[0;34m,\u001b[0m \u001b[0mitemIDs\u001b[0m\u001b[0;34m[\u001b[0m\u001b[0mk\u001b[0m\u001b[0;34m]\u001b[0m\u001b[0;34m,\u001b[0m \u001b[0mitemIDs\u001b[0m\u001b[0;34m[\u001b[0m\u001b[0mj\u001b[0m\u001b[0;34m]\u001b[0m\u001b[0;34m)\u001b[0m\u001b[0;34m.\u001b[0m\u001b[0mnumpy\u001b[0m\u001b[0;34m(\u001b[0m\u001b[0;34m)\u001b[0m\u001b[0;34m\u001b[0m\u001b[0;34m\u001b[0m\u001b[0m\n\u001b[0m\u001b[1;32m     11\u001b[0m         \u001b[0;32mif\u001b[0m \u001b[0msp\u001b[0m \u001b[0;34m>\u001b[0m \u001b[0msn\u001b[0m\u001b[0;34m:\u001b[0m\u001b[0;34m\u001b[0m\u001b[0;34m\u001b[0m\u001b[0m\n\u001b[1;32m     12\u001b[0m             \u001b[0mwin\u001b[0m \u001b[0;34m+=\u001b[0m \u001b[0;36m1\u001b[0m\u001b[0;34m\u001b[0m\u001b[0;34m\u001b[0m\u001b[0m\n",
      "\u001b[0;32m/var/folders/4s/wc56g00n4fqd1v63y_pnch1h0000gn/T/ipykernel_79464/1042685430.py\u001b[0m in \u001b[0;36mpredict\u001b[0;34m(self, u, i, j)\u001b[0m\n\u001b[1;32m     16\u001b[0m     \u001b[0;31m# Prediction for a single instance\u001b[0m\u001b[0;34m\u001b[0m\u001b[0;34m\u001b[0m\u001b[0m\n\u001b[1;32m     17\u001b[0m     \u001b[0;32mdef\u001b[0m \u001b[0mpredict\u001b[0m\u001b[0;34m(\u001b[0m\u001b[0mself\u001b[0m\u001b[0;34m,\u001b[0m \u001b[0mu\u001b[0m\u001b[0;34m,\u001b[0m \u001b[0mi\u001b[0m\u001b[0;34m,\u001b[0m \u001b[0mj\u001b[0m\u001b[0;34m)\u001b[0m\u001b[0;34m:\u001b[0m\u001b[0;34m\u001b[0m\u001b[0;34m\u001b[0m\u001b[0m\n\u001b[0;32m---> 18\u001b[0;31m         \u001b[0mp\u001b[0m \u001b[0;34m=\u001b[0m \u001b[0mself\u001b[0m\u001b[0;34m.\u001b[0m\u001b[0mbetaI\u001b[0m\u001b[0;34m[\u001b[0m\u001b[0mi\u001b[0m\u001b[0;34m]\u001b[0m \u001b[0;34m+\u001b[0m \u001b[0mself\u001b[0m\u001b[0;34m.\u001b[0m\u001b[0mUI\u001b[0m \u001b[0;34m*\u001b[0m \u001b[0mtf\u001b[0m\u001b[0;34m.\u001b[0m\u001b[0mtensordot\u001b[0m\u001b[0;34m(\u001b[0m\u001b[0mself\u001b[0m\u001b[0;34m.\u001b[0m\u001b[0mgammaUI\u001b[0m\u001b[0;34m[\u001b[0m\u001b[0mu\u001b[0m\u001b[0;34m]\u001b[0m\u001b[0;34m,\u001b[0m \u001b[0mself\u001b[0m\u001b[0;34m.\u001b[0m\u001b[0mgammaIU\u001b[0m\u001b[0;34m[\u001b[0m\u001b[0mi\u001b[0m\u001b[0;34m]\u001b[0m\u001b[0;34m,\u001b[0m \u001b[0;36m1\u001b[0m\u001b[0;34m)\u001b[0m \u001b[0;34m+\u001b[0m\u001b[0;31m\\\u001b[0m\u001b[0;34m\u001b[0m\u001b[0;34m\u001b[0m\u001b[0m\n\u001b[0m\u001b[1;32m     19\u001b[0m                             \u001b[0mself\u001b[0m\u001b[0;34m.\u001b[0m\u001b[0mIJ\u001b[0m \u001b[0;34m*\u001b[0m \u001b[0mtf\u001b[0m\u001b[0;34m.\u001b[0m\u001b[0mtensordot\u001b[0m\u001b[0;34m(\u001b[0m\u001b[0mself\u001b[0m\u001b[0;34m.\u001b[0m\u001b[0mgammaIJ\u001b[0m\u001b[0;34m[\u001b[0m\u001b[0mi\u001b[0m\u001b[0;34m]\u001b[0m\u001b[0;34m,\u001b[0m \u001b[0mself\u001b[0m\u001b[0;34m.\u001b[0m\u001b[0mgammaJI\u001b[0m\u001b[0;34m[\u001b[0m\u001b[0mj\u001b[0m\u001b[0;34m]\u001b[0m\u001b[0;34m,\u001b[0m \u001b[0;36m1\u001b[0m\u001b[0;34m)\u001b[0m\u001b[0;34m\u001b[0m\u001b[0;34m\u001b[0m\u001b[0m\n\u001b[1;32m     20\u001b[0m         \u001b[0;32mreturn\u001b[0m \u001b[0mp\u001b[0m\u001b[0;34m\u001b[0m\u001b[0;34m\u001b[0m\u001b[0m\n",
      "\u001b[0;32m~/miniforge3/lib/python3.9/site-packages/tensorflow/python/ops/array_ops.py\u001b[0m in \u001b[0;36m_SliceHelperVar\u001b[0;34m(var, slice_spec)\u001b[0m\n\u001b[1;32m   1293\u001b[0m   \"\"\"\n\u001b[1;32m   1294\u001b[0m \u001b[0;34m\u001b[0m\u001b[0m\n\u001b[0;32m-> 1295\u001b[0;31m   \u001b[0;32mreturn\u001b[0m \u001b[0m_slice_helper\u001b[0m\u001b[0;34m(\u001b[0m\u001b[0mvar\u001b[0m\u001b[0;34m.\u001b[0m\u001b[0mvalue\u001b[0m\u001b[0;34m(\u001b[0m\u001b[0;34m)\u001b[0m\u001b[0;34m,\u001b[0m \u001b[0mslice_spec\u001b[0m\u001b[0;34m,\u001b[0m \u001b[0mvar\u001b[0m\u001b[0;34m)\u001b[0m\u001b[0;34m\u001b[0m\u001b[0;34m\u001b[0m\u001b[0m\n\u001b[0m\u001b[1;32m   1296\u001b[0m \u001b[0;34m\u001b[0m\u001b[0m\n\u001b[1;32m   1297\u001b[0m \u001b[0;34m\u001b[0m\u001b[0m\n",
      "\u001b[0;32m~/miniforge3/lib/python3.9/site-packages/tensorflow/python/util/dispatch.py\u001b[0m in \u001b[0;36mwrapper\u001b[0;34m(*args, **kwargs)\u001b[0m\n\u001b[1;32m    204\u001b[0m     \u001b[0;34m\"\"\"Call target, and fall back on dispatchers if there is a TypeError.\"\"\"\u001b[0m\u001b[0;34m\u001b[0m\u001b[0;34m\u001b[0m\u001b[0m\n\u001b[1;32m    205\u001b[0m     \u001b[0;32mtry\u001b[0m\u001b[0;34m:\u001b[0m\u001b[0;34m\u001b[0m\u001b[0;34m\u001b[0m\u001b[0m\n\u001b[0;32m--> 206\u001b[0;31m       \u001b[0;32mreturn\u001b[0m \u001b[0mtarget\u001b[0m\u001b[0;34m(\u001b[0m\u001b[0;34m*\u001b[0m\u001b[0margs\u001b[0m\u001b[0;34m,\u001b[0m \u001b[0;34m**\u001b[0m\u001b[0mkwargs\u001b[0m\u001b[0;34m)\u001b[0m\u001b[0;34m\u001b[0m\u001b[0;34m\u001b[0m\u001b[0m\n\u001b[0m\u001b[1;32m    207\u001b[0m     \u001b[0;32mexcept\u001b[0m \u001b[0;34m(\u001b[0m\u001b[0mTypeError\u001b[0m\u001b[0;34m,\u001b[0m \u001b[0mValueError\u001b[0m\u001b[0;34m)\u001b[0m\u001b[0;34m:\u001b[0m\u001b[0;34m\u001b[0m\u001b[0;34m\u001b[0m\u001b[0m\n\u001b[1;32m    208\u001b[0m       \u001b[0;31m# Note: convert_to_eager_tensor currently raises a ValueError, not a\u001b[0m\u001b[0;34m\u001b[0m\u001b[0;34m\u001b[0m\u001b[0m\n",
      "\u001b[0;32m~/miniforge3/lib/python3.9/site-packages/tensorflow/python/ops/array_ops.py\u001b[0m in \u001b[0;36m_slice_helper\u001b[0;34m(tensor, slice_spec, var)\u001b[0m\n\u001b[1;32m   1039\u001b[0m       \u001b[0mvar_empty\u001b[0m \u001b[0;34m=\u001b[0m \u001b[0mconstant\u001b[0m\u001b[0;34m(\u001b[0m\u001b[0;34m[\u001b[0m\u001b[0;34m]\u001b[0m\u001b[0;34m,\u001b[0m \u001b[0mdtype\u001b[0m\u001b[0;34m=\u001b[0m\u001b[0mdtypes\u001b[0m\u001b[0;34m.\u001b[0m\u001b[0mint32\u001b[0m\u001b[0;34m)\u001b[0m\u001b[0;34m\u001b[0m\u001b[0;34m\u001b[0m\u001b[0m\n\u001b[1;32m   1040\u001b[0m       \u001b[0mpacked_begin\u001b[0m \u001b[0;34m=\u001b[0m \u001b[0mpacked_end\u001b[0m \u001b[0;34m=\u001b[0m \u001b[0mpacked_strides\u001b[0m \u001b[0;34m=\u001b[0m \u001b[0mvar_empty\u001b[0m\u001b[0;34m\u001b[0m\u001b[0;34m\u001b[0m\u001b[0m\n\u001b[0;32m-> 1041\u001b[0;31m     return strided_slice(\n\u001b[0m\u001b[1;32m   1042\u001b[0m         \u001b[0mtensor\u001b[0m\u001b[0;34m,\u001b[0m\u001b[0;34m\u001b[0m\u001b[0;34m\u001b[0m\u001b[0m\n\u001b[1;32m   1043\u001b[0m         \u001b[0mpacked_begin\u001b[0m\u001b[0;34m,\u001b[0m\u001b[0;34m\u001b[0m\u001b[0;34m\u001b[0m\u001b[0m\n",
      "\u001b[0;32m~/miniforge3/lib/python3.9/site-packages/tensorflow/python/util/dispatch.py\u001b[0m in \u001b[0;36mwrapper\u001b[0;34m(*args, **kwargs)\u001b[0m\n\u001b[1;32m    204\u001b[0m     \u001b[0;34m\"\"\"Call target, and fall back on dispatchers if there is a TypeError.\"\"\"\u001b[0m\u001b[0;34m\u001b[0m\u001b[0;34m\u001b[0m\u001b[0m\n\u001b[1;32m    205\u001b[0m     \u001b[0;32mtry\u001b[0m\u001b[0;34m:\u001b[0m\u001b[0;34m\u001b[0m\u001b[0;34m\u001b[0m\u001b[0m\n\u001b[0;32m--> 206\u001b[0;31m       \u001b[0;32mreturn\u001b[0m \u001b[0mtarget\u001b[0m\u001b[0;34m(\u001b[0m\u001b[0;34m*\u001b[0m\u001b[0margs\u001b[0m\u001b[0;34m,\u001b[0m \u001b[0;34m**\u001b[0m\u001b[0mkwargs\u001b[0m\u001b[0;34m)\u001b[0m\u001b[0;34m\u001b[0m\u001b[0;34m\u001b[0m\u001b[0m\n\u001b[0m\u001b[1;32m    207\u001b[0m     \u001b[0;32mexcept\u001b[0m \u001b[0;34m(\u001b[0m\u001b[0mTypeError\u001b[0m\u001b[0;34m,\u001b[0m \u001b[0mValueError\u001b[0m\u001b[0;34m)\u001b[0m\u001b[0;34m:\u001b[0m\u001b[0;34m\u001b[0m\u001b[0;34m\u001b[0m\u001b[0m\n\u001b[1;32m    208\u001b[0m       \u001b[0;31m# Note: convert_to_eager_tensor currently raises a ValueError, not a\u001b[0m\u001b[0;34m\u001b[0m\u001b[0;34m\u001b[0m\u001b[0m\n",
      "\u001b[0;32m~/miniforge3/lib/python3.9/site-packages/tensorflow/python/ops/array_ops.py\u001b[0m in \u001b[0;36mstrided_slice\u001b[0;34m(input_, begin, end, strides, begin_mask, end_mask, ellipsis_mask, new_axis_mask, shrink_axis_mask, var, name)\u001b[0m\n\u001b[1;32m   1212\u001b[0m     \u001b[0mstrides\u001b[0m \u001b[0;34m=\u001b[0m \u001b[0mones_like\u001b[0m\u001b[0;34m(\u001b[0m\u001b[0mbegin\u001b[0m\u001b[0;34m)\u001b[0m\u001b[0;34m\u001b[0m\u001b[0;34m\u001b[0m\u001b[0m\n\u001b[1;32m   1213\u001b[0m \u001b[0;34m\u001b[0m\u001b[0m\n\u001b[0;32m-> 1214\u001b[0;31m   op = gen_array_ops.strided_slice(\n\u001b[0m\u001b[1;32m   1215\u001b[0m       \u001b[0minput\u001b[0m\u001b[0;34m=\u001b[0m\u001b[0minput_\u001b[0m\u001b[0;34m,\u001b[0m\u001b[0;34m\u001b[0m\u001b[0;34m\u001b[0m\u001b[0m\n\u001b[1;32m   1216\u001b[0m       \u001b[0mbegin\u001b[0m\u001b[0;34m=\u001b[0m\u001b[0mbegin\u001b[0m\u001b[0;34m,\u001b[0m\u001b[0;34m\u001b[0m\u001b[0;34m\u001b[0m\u001b[0m\n",
      "\u001b[0;32m~/miniforge3/lib/python3.9/site-packages/tensorflow/python/ops/gen_array_ops.py\u001b[0m in \u001b[0;36mstrided_slice\u001b[0;34m(input, begin, end, strides, begin_mask, end_mask, ellipsis_mask, new_axis_mask, shrink_axis_mask, name)\u001b[0m\n\u001b[1;32m  10503\u001b[0m   \u001b[0;32mif\u001b[0m \u001b[0mtld\u001b[0m\u001b[0;34m.\u001b[0m\u001b[0mis_eager\u001b[0m\u001b[0;34m:\u001b[0m\u001b[0;34m\u001b[0m\u001b[0;34m\u001b[0m\u001b[0m\n\u001b[1;32m  10504\u001b[0m     \u001b[0;32mtry\u001b[0m\u001b[0;34m:\u001b[0m\u001b[0;34m\u001b[0m\u001b[0;34m\u001b[0m\u001b[0m\n\u001b[0;32m> 10505\u001b[0;31m       _result = pywrap_tfe.TFE_Py_FastPathExecute(\n\u001b[0m\u001b[1;32m  10506\u001b[0m         \u001b[0m_ctx\u001b[0m\u001b[0;34m,\u001b[0m \u001b[0;34m\"StridedSlice\"\u001b[0m\u001b[0;34m,\u001b[0m \u001b[0mname\u001b[0m\u001b[0;34m,\u001b[0m \u001b[0minput\u001b[0m\u001b[0;34m,\u001b[0m \u001b[0mbegin\u001b[0m\u001b[0;34m,\u001b[0m \u001b[0mend\u001b[0m\u001b[0;34m,\u001b[0m \u001b[0mstrides\u001b[0m\u001b[0;34m,\u001b[0m \u001b[0;34m\"begin_mask\"\u001b[0m\u001b[0;34m,\u001b[0m\u001b[0;34m\u001b[0m\u001b[0;34m\u001b[0m\u001b[0m\n\u001b[1;32m  10507\u001b[0m         \u001b[0mbegin_mask\u001b[0m\u001b[0;34m,\u001b[0m \u001b[0;34m\"end_mask\"\u001b[0m\u001b[0;34m,\u001b[0m \u001b[0mend_mask\u001b[0m\u001b[0;34m,\u001b[0m \u001b[0;34m\"ellipsis_mask\"\u001b[0m\u001b[0;34m,\u001b[0m \u001b[0mellipsis_mask\u001b[0m\u001b[0;34m,\u001b[0m\u001b[0;34m\u001b[0m\u001b[0;34m\u001b[0m\u001b[0m\n",
      "\u001b[0;31mKeyboardInterrupt\u001b[0m: "
     ]
    }
   ],
   "source": [
    "# print(\"AUC = \" + str(AUC(modelFPMC, 100)))"
   ]
  },
  {
   "cell_type": "markdown",
   "id": "11b46bd1",
   "metadata": {},
   "source": [
    "# Sliding window, linear regression"
   ]
  },
  {
   "cell_type": "code",
   "execution_count": 25,
   "id": "8e0a4da0",
   "metadata": {},
   "outputs": [],
   "source": [
    "ratingsTime = [(d['unixtime'], d['stars']) for d in originalDataset if 'stars' in d and d['stars'] != None and 'unixtime' in d and d['unixtime'] != -86400 and d['unixtime'] != None]"
   ]
  },
  {
   "cell_type": "code",
   "execution_count": 26,
   "id": "0d994f8d",
   "metadata": {},
   "outputs": [
    {
     "data": {
      "text/plain": [
       "1383597"
      ]
     },
     "execution_count": 26,
     "metadata": {},
     "output_type": "execute_result"
    }
   ],
   "source": [
    "ratingsTime.sort()\n",
    "len(ratingsTime)"
   ]
  },
  {
   "cell_type": "code",
   "execution_count": 55,
   "id": "40d51715",
   "metadata": {},
   "outputs": [],
   "source": [
    "wSize = 10000\n",
    "xu = [r[0] for r in ratingsTime] # as unix times\n",
    "y = [r[1] for r in ratingsTime] # ratings"
   ]
  },
  {
   "cell_type": "code",
   "execution_count": 56,
   "id": "57b2db76",
   "metadata": {},
   "outputs": [],
   "source": [
    "xSum = sum(xu[:wSize])\n",
    "ySum = sum(y[:wSize])\n",
    "sliding = []"
   ]
  },
  {
   "cell_type": "code",
   "execution_count": 57,
   "id": "3829e760",
   "metadata": {},
   "outputs": [],
   "source": [
    "for i in range(wSize,len(xu)-1):\n",
    "    xSum += xu[i] - xu[i-wSize]\n",
    "    ySum += y[i] - y[i-wSize]\n",
    "    sliding.append((xSum*1.0/wSize,ySum*1.0/wSize))"
   ]
  },
  {
   "cell_type": "code",
   "execution_count": 58,
   "id": "a1ad2aaf",
   "metadata": {},
   "outputs": [],
   "source": [
    "X = [a[0] for a in sliding]\n",
    "Y = [a[1] for a in sliding]"
   ]
  },
  {
   "cell_type": "code",
   "execution_count": 59,
   "id": "6da94740",
   "metadata": {},
   "outputs": [
    {
     "data": {
      "image/png": "[encoded data removed]",
      "text/plain": [
       "<Figure size 432x288 with 1 Axes>"
      ]
     },
     "metadata": {
      "needs_background": "light"
     },
     "output_type": "display_data"
    }
   ],
   "source": [
    "plt.plot(X, Y, label=\"10000 rating window\", color='k')\n",
    "# plt.xticks([X[600], X[-350]], [x[wSize+600].strftime(\"%d/%m/%Y\"), x[-350].strftime(\"%d/%m/%Y\")])\n",
    "plt.xlim(X[0], X[-1])\n",
    "plt.ylabel(\"Rating\")\n",
    "plt.xlabel(\"unixtime\")\n",
    "plt.legend(loc=\"best\",fontsize=8)\n",
    "plt.title(\"Ratings over time (sliding windows)\")\n",
    "plt.show()"
   ]
  },
  {
   "cell_type": "code",
   "execution_count": 50,
   "id": "b6626267",
   "metadata": {},
   "outputs": [
    {
     "data": {
      "text/plain": [
       "82833"
      ]
     },
     "execution_count": 50,
     "metadata": {},
     "output_type": "execute_result"
    }
   ],
   "source": [
    "len(interactionsPerUser)"
   ]
  },
  {
   "cell_type": "code",
   "execution_count": 52,
   "id": "78fc450c",
   "metadata": {},
   "outputs": [],
   "source": [
    "test = [len(s) for s in interactionsPerUser]"
   ]
  },
  {
   "cell_type": "code",
   "execution_count": 53,
   "id": "e15d6be4",
   "metadata": {},
   "outputs": [
    {
     "data": {
      "text/plain": [
       "0"
      ]
     },
     "execution_count": 53,
     "metadata": {},
     "output_type": "execute_result"
    }
   ],
   "source": [
    "np.min(test)"
   ]
  },
  {
   "cell_type": "code",
   "execution_count": 70,
   "id": "92885b78",
   "metadata": {},
   "outputs": [
    {
     "data": {
      "text/plain": [
       "1383597"
      ]
     },
     "execution_count": 70,
     "metadata": {},
     "output_type": "execute_result"
    }
   ],
   "source": [
    "len(interactionsWithRating)"
   ]
  },
  {
   "cell_type": "code",
   "execution_count": 71,
   "id": "b33dd2e7",
   "metadata": {},
   "outputs": [
    {
     "data": {
      "text/plain": [
       "[(1194393600, 'van_stef', '3206242', 5.0),\n",
       " (1333756800, 'dwatson2', '12198649', 5.0),\n",
       " (1364515200, 'amdrane2', '12981302', 4.0),\n",
       " (1270944000, 'Lila_Gustavus', '5231009', 3.0),\n",
       " (1231372800, 'skinglist', '184318', 2.0),\n",
       " (1229644800, 'saibaby79', '364456', 4.0),\n",
       " (1160265600, 'justine', '3067', 4.5),\n",
       " (1303430400, 'aulsmith', '4857142', 4.0),\n",
       " (1171238400, 'ChelseaBottomley', '45518', 2.5),\n",
       " (1262736000, 'wondersdisciple', '20028', 3.5)]"
      ]
     },
     "execution_count": 71,
     "metadata": {},
     "output_type": "execute_result"
    }
   ],
   "source": [
    "interactionsWithRating[:10]"
   ]
  },
  {
   "cell_type": "code",
   "execution_count": 73,
   "id": "35fb94ae",
   "metadata": {},
   "outputs": [],
   "source": [
    "interactionsWithRating.sort()"
   ]
  },
  {
   "cell_type": "code",
   "execution_count": 74,
   "id": "2635d69c",
   "metadata": {},
   "outputs": [],
   "source": [
    "itTrain = interactionsWithRating[:1200000]\n",
    "itTest = interactionsWithRating[1200000:]"
   ]
  },
  {
   "cell_type": "code",
   "execution_count": 79,
   "id": "a08ff9b2",
   "metadata": {},
   "outputs": [],
   "source": [
    "userReviews = defaultdict(list)\n",
    "itemReviews = defaultdict(list)\n",
    "for d in itTrain:\n",
    "    userReviews[d[1]].append(d[3])\n",
    "    itemReviews[d[2]].append(d[3])"
   ]
  },
  {
   "cell_type": "code",
   "execution_count": 139,
   "id": "ef929977",
   "metadata": {},
   "outputs": [],
   "source": [
    "userAvgRatings = defaultdict(float)\n",
    "itemAvgRatings = defaultdict(float)\n",
    "for u in userReviews:\n",
    "    userAvgRatings[u] = np.mean(np.array(userReviews[u]))\n",
    "for i in itemReviews:\n",
    "    itemAvgRatings[i] = np.mean(np.array(itemReviews[i]))"
   ]
  },
  {
   "cell_type": "code",
   "execution_count": 161,
   "id": "59f1022e",
   "metadata": {},
   "outputs": [],
   "source": [
    "w_size = 100\n",
    "Xtrain = []\n",
    "ytrain = []\n",
    "for i in range(w_size, len(itTrain) - 1):\n",
    "    u, item, r = itTrain[i][1], itTrain[i][2], itTrain[i][3]\n",
    "    sample = itTrain[i - w_size : i]\n",
    "    feature = [d[3] for d in sample]\n",
    "#     feature.append(userAvgRatings[u])\n",
    "#     feature.append(itemAvgRatings[item])\n",
    "    feature.append(1)\n",
    "    Xtrain.append(feature)\n",
    "    ytrain.append(r)"
   ]
  },
  {
   "cell_type": "code",
   "execution_count": 162,
   "id": "4649a909",
   "metadata": {},
   "outputs": [],
   "source": [
    "Xtest = []\n",
    "ytest = []\n",
    "for i in range(w_size, len(itTest) - 1):\n",
    "    u, item, r = itTest[i][1], itTest[i][2], itTest[i][3]\n",
    "    sample = itTest[i - w_size : i]\n",
    "    feature = [d[3] for d in sample]\n",
    "#     feature.append(userAvgRatings[u])\n",
    "#     feature.append(itemAvgRatings[item])\n",
    "    feature.append(1)\n",
    "    Xtest.append(feature)\n",
    "    ytest.append(r)"
   ]
  },
  {
   "cell_type": "code",
   "execution_count": 176,
   "id": "a61e3441",
   "metadata": {},
   "outputs": [],
   "source": [
    "ytest = np.array(ytest)"
   ]
  },
  {
   "cell_type": "code",
   "execution_count": 163,
   "id": "7278a732",
   "metadata": {},
   "outputs": [
    {
     "data": {
      "text/plain": [
       "LinearRegression(fit_intercept=False)"
      ]
     },
     "execution_count": 163,
     "metadata": {},
     "output_type": "execute_result"
    }
   ],
   "source": [
    "model = sklearn.linear_model.LinearRegression(fit_intercept=False)\n",
    "model.fit(Xtrain, ytrain)"
   ]
  },
  {
   "cell_type": "code",
   "execution_count": 164,
   "id": "fba08d54",
   "metadata": {},
   "outputs": [],
   "source": [
    "ypred = model.predict(Xtest)"
   ]
  },
  {
   "cell_type": "code",
   "execution_count": 165,
   "id": "19f3edd9",
   "metadata": {},
   "outputs": [],
   "source": [
    "def MSE(ypred, ytest):\n",
    "    return np.mean((ypred - ytest) ** 2)"
   ]
  },
  {
   "cell_type": "code",
   "execution_count": 169,
   "id": "46f6dbe5",
   "metadata": {},
   "outputs": [],
   "source": [
    "def R_sq(ypred, ytest):\n",
    "    return 1 - np.mean((ypred - ytest) ** 2) / np.var(ytest)"
   ]
  },
  {
   "cell_type": "code",
   "execution_count": 170,
   "id": "c6b586a2",
   "metadata": {},
   "outputs": [
    {
     "data": {
      "text/plain": [
       "0.9468799014416787"
      ]
     },
     "execution_count": 170,
     "metadata": {},
     "output_type": "execute_result"
    }
   ],
   "source": [
    "MSE(ypred, ytest)"
   ]
  },
  {
   "cell_type": "code",
   "execution_count": 171,
   "id": "f2d11b75",
   "metadata": {},
   "outputs": [
    {
     "data": {
      "text/plain": [
       "0.0703242808982909"
      ]
     },
     "execution_count": 171,
     "metadata": {},
     "output_type": "execute_result"
    }
   ],
   "source": [
    "R_sq(ypred, ytest)"
   ]
  },
  {
   "cell_type": "code",
   "execution_count": 177,
   "id": "1c7161e3",
   "metadata": {},
   "outputs": [
    {
     "name": "stdout",
     "output_type": "stream",
     "text": [
      "TP:65173, FP:5705, TN:65173, FN:93259\n",
      "Accuracy:0.46067489209574053, BER:0.45429536192002706\n"
     ]
    }
   ],
   "source": [
    "# Check binary error rate, see report section 2\n",
    "TP = sum( np.logical_and(ypred>=4.0, ytest>=4.0) )\n",
    "FP = sum( np.logical_and(ypred>=4.0, ytest<4.0) )\n",
    "TN = sum( np.logical_and(ypred<4.0, ytest<4.0) )\n",
    "FN = sum( np.logical_and(ypred<4.0, ytest>=4.0) )\n",
    "\n",
    "assert TP+FP+TN+FN == len(ytest)\n",
    "\n",
    "Accuracy = (TP + TN) / len(ytest)\n",
    "BER = 1 - 0.5*(TP / (TP + FN) + TN / (TN + FP))\n",
    "print(f\"TP:{TN}, FP:{FP}, TN:{TN}, FN:{FN}\")\n",
    "print(f\"Accuracy:{Accuracy}, BER:{BER}\")"
   ]
  },
  {
   "cell_type": "markdown",
   "id": "e95518fd",
   "metadata": {},
   "source": [
    "# Read in data"
   ]
  },
  {
   "cell_type": "code",
   "execution_count": 255,
   "id": "1f5db3cb",
   "metadata": {},
   "outputs": [],
   "source": [
    "userIDs = {}\n",
    "itemIDs = {}\n",
    "interactions = []\n",
    "interactionsWithRating = []\n",
    "interactionsPerUser = defaultdict(list)\n",
    "\n",
    "for d in originalDataset:\n",
    "    u = d['user']\n",
    "    i = d['work']\n",
    "    t = d['unixtime']\n",
    "    if t == None or t == -86400: continue\n",
    "    if not u in userIDs: userIDs[u] = len(userIDs)\n",
    "    if not i in itemIDs: itemIDs[i] = len(itemIDs)\n",
    "    interactions.append((t,u,i))\n",
    "    interactionsPerUser[u].append((t,i))\n",
    "    if ('stars' in d and d['stars'] != None): \n",
    "        interactionsWithRating.append((t, u, i, d['stars']))"
   ]
  },
  {
   "cell_type": "code",
   "execution_count": 343,
   "id": "dbcd2a83",
   "metadata": {},
   "outputs": [],
   "source": [
    "dataWithRatings = [d for d in originalDataset if 'stars' in d and d['stars'] != None and 'unixtime' in d and d['unixtime'] != -86400 and d['unixtime'] != None]\n",
    "# dataWithRatings = [d for d in originalDataset if 'stars' in d and d['stars'] != None]"
   ]
  },
  {
   "cell_type": "code",
   "execution_count": 344,
   "id": "ad7fb7c2",
   "metadata": {
    "scrolled": true
   },
   "outputs": [
    {
     "data": {
      "text/plain": [
       "1383597"
      ]
     },
     "execution_count": 344,
     "metadata": {},
     "output_type": "execute_result"
    }
   ],
   "source": [
    "len(dataWithRatings)"
   ]
  },
  {
   "cell_type": "code",
   "execution_count": 345,
   "id": "4565d120",
   "metadata": {},
   "outputs": [],
   "source": [
    "# 8:2 train-test split\n",
    "cut = int(len(dataWithRatings) * 0.8)\n",
    "train_data, test_data = dataWithRatings[:cut], dataWithRatings[cut:]\n",
    "del dataWithRatings # save memory"
   ]
  },
  {
   "cell_type": "code",
   "execution_count": 404,
   "id": "332fc71b",
   "metadata": {},
   "outputs": [
    {
     "name": "stdout",
     "output_type": "stream",
     "text": [
      "3.7653503816851766 3.9605122606260252\n"
     ]
    }
   ],
   "source": [
    "usersPerItem = defaultdict(list)\n",
    "itemsPerUser = defaultdict(list)\n",
    "\n",
    "# very likely to have same ratings, so use list\n",
    "ratingsPerItem = defaultdict(list)\n",
    "ratingsPerUser = defaultdict(list)\n",
    "\n",
    "# Each User has a list of length 3: nhelpful, #abuse, #not_a_review\n",
    "recordPerUser = defaultdict(lambda:[0,0,0])\n",
    "\n",
    "for d in train_data:\n",
    "    \n",
    "    u, i, r, dt = d['user'], d['work'], d['stars'], d['unixtime']\n",
    "    usersPerItem[i].append( (dt, u) )\n",
    "    itemsPerUser[u].append( (dt, i) )\n",
    "    ratingsPerItem[i].append(r)\n",
    "    ratingsPerUser[u].append(r)\n",
    "    \n",
    "    if d['nhelpful']:\n",
    "        recordPerUser[u][0] += d['nhelpful']\n",
    "    if d['flags']:\n",
    "        if 'abuse' in d['flags']:\n",
    "            recordPerUser[u][1] += 1\n",
    "        if 'not_a_review' in d['flags']:\n",
    "            recordPerUser[u][2] += 1\n",
    "\n",
    "# calculate 2 global averages for cold-start user or book: average of each user's/book's average ratings\n",
    "avgBookRating = sum( sum(ratingsPerItem[i])/len(ratingsPerItem[i]) for i in ratingsPerItem)/len(ratingsPerItem)\n",
    "avgUserRating = sum( sum(ratingsPerUser[u])/len(ratingsPerUser[u]) for u in ratingsPerUser)/len(ratingsPerUser)\n",
    "print(avgBookRating, avgUserRating)"
   ]
  },
  {
   "cell_type": "code",
   "execution_count": 410,
   "id": "2b85bb4b",
   "metadata": {},
   "outputs": [],
   "source": [
    "usersPerItem = defaultdict(set)\n",
    "itemsPerUser = defaultdict(set)\n",
    "ratingUserItem = {}\n",
    "for d in train_data:  \n",
    "    u, i, r = d['user'], d['work'], d['stars']\n",
    "    usersPerItem[i].add(u)\n",
    "    itemsPerUser[u].add(i)\n",
    "    ratingUserItem[(u, i)] = r"
   ]
  },
  {
   "cell_type": "code",
   "execution_count": 348,
   "id": "66f88849",
   "metadata": {},
   "outputs": [
    {
     "name": "stdout",
     "output_type": "stream",
     "text": [
      "A total of 26049 users out of 65546 have helpful votes, abuse review, or not-a-review\n"
     ]
    }
   ],
   "source": [
    "print(f\"A total of {len(recordPerUser)} users out of {len(itemsPerUser)} have helpful votes, abuse review, or not-a-review\")"
   ]
  },
  {
   "cell_type": "code",
   "execution_count": 276,
   "id": "3ecdc6e9",
   "metadata": {},
   "outputs": [],
   "source": []
  },
  {
   "cell_type": "code",
   "execution_count": 349,
   "id": "28cbf2be",
   "metadata": {},
   "outputs": [
    {
     "data": {
      "text/plain": [
       "82833"
      ]
     },
     "execution_count": 349,
     "metadata": {},
     "output_type": "execute_result"
    }
   ],
   "source": [
    "len(userIDs) ### Number of users in the original dataset"
   ]
  },
  {
   "cell_type": "code",
   "execution_count": 350,
   "id": "137ef567",
   "metadata": {},
   "outputs": [
    {
     "data": {
      "text/plain": [
       "65546"
      ]
     },
     "execution_count": 350,
     "metadata": {},
     "output_type": "execute_result"
    }
   ],
   "source": [
    "len(itemsPerUser) ### Number of users in the training dataset after filtering"
   ]
  },
  {
   "cell_type": "code",
   "execution_count": 425,
   "id": "489e21c8",
   "metadata": {},
   "outputs": [],
   "source": [
    "def testModel(featureFunc):\n",
    "    Xtrain = np.array( [featureFunc(d) for d in train_data] )\n",
    "    Xtest = np.array( [featureFunc(d) for d in test_data] )\n",
    "\n",
    "    Ytrain = np.array( [d['stars'] for d in train_data] )\n",
    "    Ytest = np.array( [d['stars'] for d in test_data] )\n",
    "    \n",
    "    model = linear_model.Ridge(alpha=1000, fit_intercept=False)\n",
    "    model.fit(Xtrain, Ytrain)\n",
    "\n",
    "    Ypred = model.predict(Xtest)\n",
    "    \n",
    "    # Check binary error rate, see report section 2\n",
    "    TP = sum( np.logical_and(Ypred>=4.0, Ytest>=4.0) )\n",
    "    FP = sum( np.logical_and(Ypred>=4.0, Ytest<4.0) )\n",
    "    TN = sum( np.logical_and(Ypred<4.0, Ytest<4.0) )\n",
    "    FN = sum( np.logical_and(Ypred<4.0, Ytest>=4.0) )\n",
    "\n",
    "    assert TP+FP+TN+FN == len(Ytest)\n",
    "\n",
    "    Accuracy = (TP + TN) / len(Ytest)\n",
    "    BER = 1 - 0.5*(TP / (TP + FN) + TN / (TN + FP))\n",
    "    print(f\"TP:{TN}, FP:{FP}, TN:{TN}, FN:{FN}\")\n",
    "    print(f\"Accuracy:{Accuracy}, BER:{BER}\")\n",
    "    print(f\"Test MSE:{MSE(Ypred, Ytest)}\")\n",
    "    \n",
    "    return model, MSE(Ypred, Ytest), R_sq(Ypred, Ytest), Accuracy, BER"
   ]
  },
  {
   "cell_type": "code",
   "execution_count": 445,
   "id": "080f6020",
   "metadata": {},
   "outputs": [],
   "source": [
    "def roundToHalf(ratings):\n",
    "    return [round(r / 0.5, 0) * 0.5 for r in ratings]"
   ]
  },
  {
   "cell_type": "markdown",
   "id": "0c6ca09e",
   "metadata": {},
   "source": [
    "# Baseline"
   ]
  },
  {
   "cell_type": "code",
   "execution_count": 447,
   "id": "0a7c36c5",
   "metadata": {},
   "outputs": [],
   "source": [
    "def feature_baseline(d):\n",
    "    global avgBookRating, avgUserRating\n",
    "    result = [1] # bias term\n",
    "    u, i = d['user'], d['work']\n",
    "    if u in ratingsPerUser:\n",
    "        result.append( np.mean(ratingsPerUser[u]))\n",
    "    else:\n",
    "        result.append(avgUserRating)\n",
    "    if i in ratingsPerItem:\n",
    "        result.append( np.mean(ratingsPerItem[i]) )\n",
    "    else:\n",
    "        result.append(avgBookRating)\n",
    "    return result"
   ]
  },
  {
   "cell_type": "code",
   "execution_count": 448,
   "id": "847c858e",
   "metadata": {},
   "outputs": [],
   "source": [
    "Xtrain_baseline = np.array( [feature_baseline(d) for d in train_data] )\n",
    "Xtest_baseline = np.array( [feature_baseline(d) for d in test_data] )\n",
    "\n",
    "Ytrain = np.array( [d['stars'] for d in train_data] )\n",
    "Ytest = np.array( [d['stars'] for d in test_data] )"
   ]
  },
  {
   "cell_type": "code",
   "execution_count": 449,
   "id": "4a098992",
   "metadata": {},
   "outputs": [
    {
     "data": {
      "text/plain": [
       "array([3.13437341, 4.13792668, 4.23084309, ..., 3.66410186, 3.55441613,\n",
       "       4.53088522])"
      ]
     },
     "execution_count": 449,
     "metadata": {},
     "output_type": "execute_result"
    }
   ],
   "source": [
    "model_baseline = linear_model.LinearRegression()\n",
    "model_baseline.fit(Xtrain_baseline, Ytrain)\n",
    "\n",
    "Ypred_baseline = model_baseline.predict(Xtest_baseline)\n",
    "Ypred_baseline"
   ]
  },
  {
   "cell_type": "code",
   "execution_count": 450,
   "id": "bf726f2c",
   "metadata": {},
   "outputs": [
    {
     "data": {
      "text/plain": [
       "0.848704559199519"
      ]
     },
     "execution_count": 450,
     "metadata": {},
     "output_type": "execute_result"
    }
   ],
   "source": [
    "MSE(Ypred_baseline, Ytest)"
   ]
  },
  {
   "cell_type": "code",
   "execution_count": 451,
   "id": "d44ecea2",
   "metadata": {},
   "outputs": [
    {
     "data": {
      "text/plain": [
       "0.8692586368892744"
      ]
     },
     "execution_count": 451,
     "metadata": {},
     "output_type": "execute_result"
    }
   ],
   "source": [
    "MSE(roundToHalf(Ypred_baseline), Ytest)"
   ]
  },
  {
   "cell_type": "code",
   "execution_count": 356,
   "id": "42c67d4b",
   "metadata": {},
   "outputs": [
    {
     "data": {
      "text/plain": [
       "0.14835923148656704"
      ]
     },
     "execution_count": 356,
     "metadata": {},
     "output_type": "execute_result"
    }
   ],
   "source": [
    "R_sq(Ypred_baseline, Ytest)"
   ]
  },
  {
   "cell_type": "code",
   "execution_count": 454,
   "id": "6850a3a4",
   "metadata": {},
   "outputs": [],
   "source": [
    "Ypred_baseline = np.array(roundToHalf(Ypred_baseline))"
   ]
  },
  {
   "cell_type": "code",
   "execution_count": 455,
   "id": "d6401784",
   "metadata": {},
   "outputs": [
    {
     "name": "stdout",
     "output_type": "stream",
     "text": [
      "TP:66436, FP:37519, TN:66436, FN:53744\n",
      "Accuracy:0.6701973113616653, BER:0.33599865389818273\n"
     ]
    }
   ],
   "source": [
    "# Check binary error rate, see report section 2\n",
    "TP = sum( np.logical_and(Ypred_baseline>=4.0, Ytest>=4.0) )\n",
    "FP = sum( np.logical_and(Ypred_baseline>=4.0, Ytest<4.0) )\n",
    "TN = sum( np.logical_and(Ypred_baseline<4.0, Ytest<4.0) )\n",
    "FN = sum( np.logical_and(Ypred_baseline<4.0, Ytest>=4.0) )\n",
    "\n",
    "assert TP+FP+TN+FN == len(Ytest)\n",
    "\n",
    "Accuracy = (TP + TN) / len(Ytest)\n",
    "BER = 1 - 0.5*(TP / (TP + FN) + TN / (TN + FP))\n",
    "print(f\"TP:{TN}, FP:{FP}, TN:{TN}, FN:{FN}\")\n",
    "print(f\"Accuracy:{Accuracy}, BER:{BER}\")"
   ]
  },
  {
   "cell_type": "code",
   "execution_count": 427,
   "id": "bb75f4b0",
   "metadata": {},
   "outputs": [
    {
     "name": "stdout",
     "output_type": "stream",
     "text": [
      "TP:86476, FP:17479, TN:86476, FN:93461\n",
      "Accuracy:0.5990893321769297, BER:0.3545559504821649\n",
      "Test MSE:0.8473022145076765\n"
     ]
    },
    {
     "data": {
      "text/plain": [
       "(Ridge(alpha=1000, fit_intercept=False),\n",
       " 0.8473022145076765,\n",
       " 0.1497664277813624,\n",
       " 0.5990893321769297,\n",
       " 0.3545559504821649)"
      ]
     },
     "execution_count": 427,
     "metadata": {},
     "output_type": "execute_result"
    }
   ],
   "source": [
    "testModel(feature_baseline)"
   ]
  },
  {
   "cell_type": "markdown",
   "id": "02b7833e",
   "metadata": {},
   "source": [
    "# Social"
   ]
  },
  {
   "cell_type": "code",
   "execution_count": 359,
   "id": "3af2b139",
   "metadata": {},
   "outputs": [
    {
     "data": {
      "text/plain": [
       "[('Rodo', 'anehan'),\n",
       " ('Rodo', 'sevilemar'),\n",
       " ('Rodo', 'dingsi'),\n",
       " ('Rodo', 'slash'),\n",
       " ('RelaxedReader', 'AnnRig'),\n",
       " ('RelaxedReader', 'bookbroke'),\n",
       " ('RelaxedReader', 'Bumpersmom'),\n",
       " ('RelaxedReader', 'DivaColumbus'),\n",
       " ('RelaxedReader', 'AnnRig'),\n",
       " ('RelaxedReader', 'bookbroke')]"
      ]
     },
     "execution_count": 359,
     "metadata": {},
     "output_type": "execute_result"
    }
   ],
   "source": [
    "relations[:10]"
   ]
  },
  {
   "cell_type": "code",
   "execution_count": 360,
   "id": "9c20c90f",
   "metadata": {},
   "outputs": [],
   "source": [
    "friendsOfUser = defaultdict(set)\n",
    "for d in relations:\n",
    "    u1, u2 = d[0], d[1]\n",
    "    if u1 in itemsPerUser and u2 in itemsPerUser:\n",
    "        friendsOfUser[u1].add(u2)\n",
    "        friendsOfUser[u2].add(u1)\n"
   ]
  },
  {
   "cell_type": "code",
   "execution_count": 361,
   "id": "8efedbaf",
   "metadata": {},
   "outputs": [
    {
     "data": {
      "text/plain": [
       "20369"
      ]
     },
     "execution_count": 361,
     "metadata": {},
     "output_type": "execute_result"
    }
   ],
   "source": [
    "len(friendsOfUser) ### Number of users who has at least 1 friend who also has a review in the dataset"
   ]
  },
  {
   "cell_type": "code",
   "execution_count": 362,
   "id": "f057d6b3",
   "metadata": {},
   "outputs": [
    {
     "data": {
      "text/plain": [
       "65546"
      ]
     },
     "execution_count": 362,
     "metadata": {},
     "output_type": "execute_result"
    }
   ],
   "source": [
    "len(itemsPerUser)"
   ]
  },
  {
   "cell_type": "code",
   "execution_count": 363,
   "id": "fd74fa3e",
   "metadata": {},
   "outputs": [
    {
     "data": {
      "text/plain": [
       "[173,\n",
       " 178,\n",
       " 180,\n",
       " 187,\n",
       " 188,\n",
       " 189,\n",
       " 189,\n",
       " 191,\n",
       " 192,\n",
       " 214,\n",
       " 217,\n",
       " 226,\n",
       " 230,\n",
       " 243,\n",
       " 274,\n",
       " 325,\n",
       " 328,\n",
       " 385,\n",
       " 1194,\n",
       " 1698]"
      ]
     },
     "execution_count": 363,
     "metadata": {},
     "output_type": "execute_result"
    }
   ],
   "source": [
    "friendsCount = [len(friendsOfUser[u]) for u in friendsOfUser]\n",
    "friendsCount.sort()\n",
    "friendsCount[-20:]"
   ]
  },
  {
   "cell_type": "code",
   "execution_count": 428,
   "id": "28a819af",
   "metadata": {},
   "outputs": [],
   "source": [
    "def feature_social_friend_avg_rating(d):\n",
    "    global avgBookRating, avgUserRating\n",
    "    result = [1] # bias term\n",
    "    u, i = d['user'], d['work']\n",
    "    if u in ratingsPerUser:\n",
    "        result.append( np.mean(ratingsPerUser[u]) )\n",
    "    else:\n",
    "        result.append(avgUserRating)\n",
    "    if i in ratingsPerItem:\n",
    "        result.append( np.mean(ratingsPerItem[i]) )\n",
    "    else:\n",
    "        result.append(avgBookRating)\n",
    "    if u in friendsOfUser:\n",
    "        friendsRatings = []\n",
    "        for f in friendsOfUser[u]:\n",
    "            friendsRatings += ratingsPerUser[f]\n",
    "        result.append( np.mean(friendsRatings) )\n",
    "    else:\n",
    "        result.append( avgUserRating )\n",
    "#     result.append( avgUserRating )\n",
    "    return result"
   ]
  },
  {
   "cell_type": "code",
   "execution_count": 429,
   "id": "ee3a8a2c",
   "metadata": {},
   "outputs": [
    {
     "name": "stdout",
     "output_type": "stream",
     "text": [
      "TP:86537, FP:17418, TN:86537, FN:93551\n",
      "Accuracy:0.5989845331020526, BER:0.35452302372490885\n",
      "Test MSE:0.8480617928222299\n"
     ]
    }
   ],
   "source": [
    "model_social_friend_avg_rating, mse, r_sq, accuracy, ber = testModel(feature_social_friend_avg_rating)"
   ]
  },
  {
   "cell_type": "code",
   "execution_count": 366,
   "id": "ca9e4c13",
   "metadata": {},
   "outputs": [
    {
     "data": {
      "text/plain": [
       "array([-1.84094933,  0.66113632,  0.83298016, -0.01001935])"
      ]
     },
     "execution_count": 366,
     "metadata": {},
     "output_type": "execute_result"
    }
   ],
   "source": [
    "model_social_friend_avg_rating.coef_"
   ]
  },
  {
   "cell_type": "code",
   "execution_count": 367,
   "id": "8daeebf4",
   "metadata": {},
   "outputs": [
    {
     "data": {
      "text/plain": [
       "0.8487737056295157"
      ]
     },
     "execution_count": 367,
     "metadata": {},
     "output_type": "execute_result"
    }
   ],
   "source": [
    "mse"
   ]
  },
  {
   "cell_type": "markdown",
   "id": "b3e75ad2",
   "metadata": {},
   "source": [
    "# Social (Jaccard similarity as weights)"
   ]
  },
  {
   "cell_type": "code",
   "execution_count": 368,
   "id": "bf108916",
   "metadata": {},
   "outputs": [],
   "source": [
    "def Jaccard(s1, s2):\n",
    "    numer = len(s1.intersection(s2))\n",
    "    denom = len(s1.union(s2))\n",
    "    if denom == 0:\n",
    "        return 0\n",
    "    return numer / denom"
   ]
  },
  {
   "cell_type": "code",
   "execution_count": 369,
   "id": "5c5ea99c",
   "metadata": {},
   "outputs": [],
   "source": [
    "def feature_social_jaccard(d):\n",
    "    global avgBookRating, avgUserRating\n",
    "    result = [1] # bias term\n",
    "    u, i = d['user'], d['work']\n",
    "    if u in ratingsPerUser:\n",
    "        result.append( np.mean(ratingsPerUser[u]) )\n",
    "    else:\n",
    "        result.append(avgUserRating)\n",
    "    if i in ratingsPerItem:\n",
    "        result.append( np.mean(ratingsPerItem[i]) )\n",
    "    else:\n",
    "        result.append(avgBookRating)\n",
    "    if u in friendsOfUser:\n",
    "        mostSimilarFriend = '' # the most similar friend\n",
    "        highestSim = -1 # highest Jaccard sim\n",
    "        for f in friendsOfUser[u]:\n",
    "            sim = Jaccard(itemsPerUser[u], itemsPerUser[f])\n",
    "            if  sim > highestSim:\n",
    "                highestSim = sim\n",
    "                mostSimilarFriend = f\n",
    "        result.append( np.mean(ratingsPerUser[mostSimilarFriend]) ) # avg rating of the most similar friend\n",
    "    else:\n",
    "        result.append( avgUserRating )\n",
    "    return result"
   ]
  },
  {
   "cell_type": "code",
   "execution_count": 370,
   "id": "07856226",
   "metadata": {},
   "outputs": [
    {
     "name": "stdout",
     "output_type": "stream",
     "text": [
      "TP:86380, FP:17575, TN:86380, FN:93035\n",
      "Accuracy:0.6002818733738075, BER:0.35378480012838354\n"
     ]
    }
   ],
   "source": [
    "model_social_jaccard, mse, r_sq, accuracy, ber = testModel(feature_social_jaccard)"
   ]
  },
  {
   "cell_type": "code",
   "execution_count": 371,
   "id": "2e64526f",
   "metadata": {},
   "outputs": [
    {
     "data": {
      "text/plain": [
       "array([-1.8532308 ,  0.66090918,  0.83297046, -0.00661091])"
      ]
     },
     "execution_count": 371,
     "metadata": {},
     "output_type": "execute_result"
    }
   ],
   "source": [
    "model_social_jaccard.coef_"
   ]
  },
  {
   "cell_type": "code",
   "execution_count": 372,
   "id": "8d42b7fd",
   "metadata": {},
   "outputs": [
    {
     "data": {
      "text/plain": [
       "0.8487635430177866"
      ]
     },
     "execution_count": 372,
     "metadata": {},
     "output_type": "execute_result"
    }
   ],
   "source": [
    "mse"
   ]
  },
  {
   "cell_type": "markdown",
   "id": "907ff6f1",
   "metadata": {},
   "source": [
    "# Social (how many friends have read this book?)"
   ]
  },
  {
   "cell_type": "code",
   "execution_count": 373,
   "id": "20c1b168",
   "metadata": {},
   "outputs": [],
   "source": [
    "def feature_social_friend_count(d):\n",
    "    global avgBookRating, avgUserRating\n",
    "    result = [1] # bias term\n",
    "    u, i = d['user'], d['work']\n",
    "    if u in ratingsPerUser:\n",
    "        result.append( np.mean(ratingsPerUser[u]) )\n",
    "    else:\n",
    "        result.append(avgUserRating)\n",
    "    if i in ratingsPerItem:\n",
    "        result.append( np.mean(ratingsPerItem[i]) )\n",
    "    else:\n",
    "        result.append(avgBookRating)\n",
    "    if u in friendsOfUser:\n",
    "        mostSimilarFriend = '' # the most similar friend\n",
    "        highestSim = -1 # highest Jaccard sim\n",
    "        friendCount = 0 # how many friends have also read this book?\n",
    "        for f in friendsOfUser[u]:\n",
    "            if i in itemsPerUser[f]: friendCount += 1\n",
    "            sim = Jaccard(itemsPerUser[u], itemsPerUser[f])\n",
    "            if  sim > highestSim:\n",
    "                highestSim = sim\n",
    "                mostSimilarFriend = f\n",
    "        result.append( np.mean(ratingsPerUser[mostSimilarFriend]) ) # avg rating of the most similar friend\n",
    "        result.append( friendCount )  # how many friends have also read this book?\n",
    "    else:\n",
    "        result.append( avgUserRating )\n",
    "        result.append(0)\n",
    "    return result"
   ]
  },
  {
   "cell_type": "code",
   "execution_count": 374,
   "id": "af3d20e5",
   "metadata": {},
   "outputs": [
    {
     "name": "stdout",
     "output_type": "stream",
     "text": [
      "TP:86368, FP:17587, TN:86368, FN:92862\n",
      "Accuracy:0.6008636889274357, BER:0.353341837295293\n"
     ]
    }
   ],
   "source": [
    "model_social_friend_count, mse, r_sq, accuracy, ber = testModel(feature_social_friend_count)"
   ]
  },
  {
   "cell_type": "code",
   "execution_count": 375,
   "id": "8ece18bb",
   "metadata": {},
   "outputs": [
    {
     "data": {
      "text/plain": [
       "0.848344859990583"
      ]
     },
     "execution_count": 375,
     "metadata": {},
     "output_type": "execute_result"
    }
   ],
   "source": [
    "mse"
   ]
  },
  {
   "cell_type": "code",
   "execution_count": 376,
   "id": "c73e7453",
   "metadata": {},
   "outputs": [
    {
     "data": {
      "text/plain": [
       "array([-1.86117215,  0.66134389,  0.83197384, -0.00492701,  0.02922094])"
      ]
     },
     "execution_count": 376,
     "metadata": {},
     "output_type": "execute_result"
    }
   ],
   "source": [
    "model_social_friend_count.coef_"
   ]
  },
  {
   "cell_type": "markdown",
   "id": "36af1792",
   "metadata": {},
   "source": [
    "# Interaction (Most similar user's rating on this book)"
   ]
  },
  {
   "cell_type": "code",
   "execution_count": 386,
   "id": "60f6a03b",
   "metadata": {},
   "outputs": [],
   "source": [
    "def feature_social_sim_user_rating_on_book(d):\n",
    "    global avgBookRating, avgUserRating\n",
    "    result = [1] # bias term\n",
    "    u, i = d['user'], d['work']\n",
    "    if u in ratingsPerUser:\n",
    "        result.append( np.mean(ratingsPerUser[u]) )\n",
    "    else:\n",
    "        result.append(avgUserRating)\n",
    "    if i in ratingsPerItem:\n",
    "        result.append( np.mean(ratingsPerItem[i]) )\n",
    "    else:\n",
    "        result.append(avgBookRating)\n",
    "    if u in friendsOfUser:\n",
    "        mostSimilarFriend = '' # the most similar friend\n",
    "        highestSim = -1 # highest Jaccard sim\n",
    "        friendCount = 0 # how many friends have also read this book?\n",
    "        for f in friendsOfUser[u]:\n",
    "            if i in itemsPerUser[f]: friendCount += 1\n",
    "            sim = Jaccard(itemsPerUser[u], itemsPerUser[f])\n",
    "            if  sim > highestSim:\n",
    "                highestSim = sim\n",
    "                mostSimilarFriend = f\n",
    "#         result.append( np.mean(ratingsPerUser[mostSimilarFriend]) ) # avg rating of the most similar friend\n",
    "        result.append( friendCount )  # how many friends have also read this book?\n",
    "    else:\n",
    "#         result.append( avgUserRating )\n",
    "        result.append(0)\n",
    "        \n",
    "        \n",
    "    mostSimUser = '' # the most similar user\n",
    "    highestSim = -1 #highest Jaccard sim\n",
    "    for u1 in usersPerItem[i]:\n",
    "        if u1 == u: continue\n",
    "        sim = Jaccard(itemsPerUser[u1], itemsPerUser[u])\n",
    "        if sim > highestSim:\n",
    "            highestSim = sim\n",
    "            mostSimUser = u1\n",
    "    if mostSimUser != '':\n",
    "        result.append(ratingUserItem[(mostSimUser, i)]) # Most similar user's rating on this book\n",
    "    else:\n",
    "        result.append( avgUserRating )\n",
    "    \n",
    "    return result"
   ]
  },
  {
   "cell_type": "code",
   "execution_count": 383,
   "id": "1614fff2",
   "metadata": {},
   "outputs": [
    {
     "ename": "ValueError",
     "evalue": "Input contains NaN, infinity or a value too large for dtype('float64').",
     "output_type": "error",
     "traceback": [
      "\u001b[0;31m---------------------------------------------------------------------------\u001b[0m",
      "\u001b[0;31mValueError\u001b[0m                                Traceback (most recent call last)",
      "\u001b[0;32m/var/folders/4s/wc56g00n4fqd1v63y_pnch1h0000gn/T/ipykernel_81774/447777685.py\u001b[0m in \u001b[0;36m<module>\u001b[0;34m\u001b[0m\n\u001b[0;32m----> 1\u001b[0;31m \u001b[0mmodel_social_sim_user_rating_on_book\u001b[0m\u001b[0;34m,\u001b[0m \u001b[0mmse\u001b[0m\u001b[0;34m,\u001b[0m \u001b[0mr_sq\u001b[0m\u001b[0;34m,\u001b[0m \u001b[0maccuracy\u001b[0m\u001b[0;34m,\u001b[0m \u001b[0mber\u001b[0m \u001b[0;34m=\u001b[0m \u001b[0mtestModel\u001b[0m\u001b[0;34m(\u001b[0m\u001b[0mfeature_social_sim_user_rating_on_book\u001b[0m\u001b[0;34m)\u001b[0m\u001b[0;34m\u001b[0m\u001b[0;34m\u001b[0m\u001b[0m\n\u001b[0m",
      "\u001b[0;32m/var/folders/4s/wc56g00n4fqd1v63y_pnch1h0000gn/T/ipykernel_81774/3645940509.py\u001b[0m in \u001b[0;36mtestModel\u001b[0;34m(featureFunc)\u001b[0m\n\u001b[1;32m      9\u001b[0m     \u001b[0mmodel\u001b[0m\u001b[0;34m.\u001b[0m\u001b[0mfit\u001b[0m\u001b[0;34m(\u001b[0m\u001b[0mXtrain\u001b[0m\u001b[0;34m,\u001b[0m \u001b[0mYtrain\u001b[0m\u001b[0;34m)\u001b[0m\u001b[0;34m\u001b[0m\u001b[0;34m\u001b[0m\u001b[0m\n\u001b[1;32m     10\u001b[0m \u001b[0;34m\u001b[0m\u001b[0m\n\u001b[0;32m---> 11\u001b[0;31m     \u001b[0mYpred\u001b[0m \u001b[0;34m=\u001b[0m \u001b[0mmodel\u001b[0m\u001b[0;34m.\u001b[0m\u001b[0mpredict\u001b[0m\u001b[0;34m(\u001b[0m\u001b[0mXtest\u001b[0m\u001b[0;34m)\u001b[0m\u001b[0;34m\u001b[0m\u001b[0;34m\u001b[0m\u001b[0m\n\u001b[0m\u001b[1;32m     12\u001b[0m \u001b[0;34m\u001b[0m\u001b[0m\n\u001b[1;32m     13\u001b[0m     \u001b[0;31m# Check binary error rate, see report section 2\u001b[0m\u001b[0;34m\u001b[0m\u001b[0;34m\u001b[0m\u001b[0m\n",
      "\u001b[0;32m~/miniforge3/lib/python3.9/site-packages/sklearn/linear_model/_base.py\u001b[0m in \u001b[0;36mpredict\u001b[0;34m(self, X)\u001b[0m\n\u001b[1;32m    360\u001b[0m             \u001b[0mReturns\u001b[0m \u001b[0mpredicted\u001b[0m \u001b[0mvalues\u001b[0m\u001b[0;34m.\u001b[0m\u001b[0;34m\u001b[0m\u001b[0;34m\u001b[0m\u001b[0m\n\u001b[1;32m    361\u001b[0m         \"\"\"\n\u001b[0;32m--> 362\u001b[0;31m         \u001b[0;32mreturn\u001b[0m \u001b[0mself\u001b[0m\u001b[0;34m.\u001b[0m\u001b[0m_decision_function\u001b[0m\u001b[0;34m(\u001b[0m\u001b[0mX\u001b[0m\u001b[0;34m)\u001b[0m\u001b[0;34m\u001b[0m\u001b[0;34m\u001b[0m\u001b[0m\n\u001b[0m\u001b[1;32m    363\u001b[0m \u001b[0;34m\u001b[0m\u001b[0m\n\u001b[1;32m    364\u001b[0m     \u001b[0m_preprocess_data\u001b[0m \u001b[0;34m=\u001b[0m \u001b[0mstaticmethod\u001b[0m\u001b[0;34m(\u001b[0m\u001b[0m_preprocess_data\u001b[0m\u001b[0;34m)\u001b[0m\u001b[0;34m\u001b[0m\u001b[0;34m\u001b[0m\u001b[0m\n",
      "\u001b[0;32m~/miniforge3/lib/python3.9/site-packages/sklearn/linear_model/_base.py\u001b[0m in \u001b[0;36m_decision_function\u001b[0;34m(self, X)\u001b[0m\n\u001b[1;32m    343\u001b[0m         \u001b[0mcheck_is_fitted\u001b[0m\u001b[0;34m(\u001b[0m\u001b[0mself\u001b[0m\u001b[0;34m)\u001b[0m\u001b[0;34m\u001b[0m\u001b[0;34m\u001b[0m\u001b[0m\n\u001b[1;32m    344\u001b[0m \u001b[0;34m\u001b[0m\u001b[0m\n\u001b[0;32m--> 345\u001b[0;31m         \u001b[0mX\u001b[0m \u001b[0;34m=\u001b[0m \u001b[0mself\u001b[0m\u001b[0;34m.\u001b[0m\u001b[0m_validate_data\u001b[0m\u001b[0;34m(\u001b[0m\u001b[0mX\u001b[0m\u001b[0;34m,\u001b[0m \u001b[0maccept_sparse\u001b[0m\u001b[0;34m=\u001b[0m\u001b[0;34m[\u001b[0m\u001b[0;34m\"csr\"\u001b[0m\u001b[0;34m,\u001b[0m \u001b[0;34m\"csc\"\u001b[0m\u001b[0;34m,\u001b[0m \u001b[0;34m\"coo\"\u001b[0m\u001b[0;34m]\u001b[0m\u001b[0;34m,\u001b[0m \u001b[0mreset\u001b[0m\u001b[0;34m=\u001b[0m\u001b[0;32mFalse\u001b[0m\u001b[0;34m)\u001b[0m\u001b[0;34m\u001b[0m\u001b[0;34m\u001b[0m\u001b[0m\n\u001b[0m\u001b[1;32m    346\u001b[0m         \u001b[0;32mreturn\u001b[0m \u001b[0msafe_sparse_dot\u001b[0m\u001b[0;34m(\u001b[0m\u001b[0mX\u001b[0m\u001b[0;34m,\u001b[0m \u001b[0mself\u001b[0m\u001b[0;34m.\u001b[0m\u001b[0mcoef_\u001b[0m\u001b[0;34m.\u001b[0m\u001b[0mT\u001b[0m\u001b[0;34m,\u001b[0m \u001b[0mdense_output\u001b[0m\u001b[0;34m=\u001b[0m\u001b[0;32mTrue\u001b[0m\u001b[0;34m)\u001b[0m \u001b[0;34m+\u001b[0m \u001b[0mself\u001b[0m\u001b[0;34m.\u001b[0m\u001b[0mintercept_\u001b[0m\u001b[0;34m\u001b[0m\u001b[0;34m\u001b[0m\u001b[0m\n\u001b[1;32m    347\u001b[0m \u001b[0;34m\u001b[0m\u001b[0m\n",
      "\u001b[0;32m~/miniforge3/lib/python3.9/site-packages/sklearn/base.py\u001b[0m in \u001b[0;36m_validate_data\u001b[0;34m(self, X, y, reset, validate_separately, **check_params)\u001b[0m\n\u001b[1;32m    559\u001b[0m             \u001b[0;32mraise\u001b[0m \u001b[0mValueError\u001b[0m\u001b[0;34m(\u001b[0m\u001b[0;34m\"Validation should be done on X, y or both.\"\u001b[0m\u001b[0;34m)\u001b[0m\u001b[0;34m\u001b[0m\u001b[0;34m\u001b[0m\u001b[0m\n\u001b[1;32m    560\u001b[0m         \u001b[0;32melif\u001b[0m \u001b[0;32mnot\u001b[0m \u001b[0mno_val_X\u001b[0m \u001b[0;32mand\u001b[0m \u001b[0mno_val_y\u001b[0m\u001b[0;34m:\u001b[0m\u001b[0;34m\u001b[0m\u001b[0;34m\u001b[0m\u001b[0m\n\u001b[0;32m--> 561\u001b[0;31m             \u001b[0mX\u001b[0m \u001b[0;34m=\u001b[0m \u001b[0mcheck_array\u001b[0m\u001b[0;34m(\u001b[0m\u001b[0mX\u001b[0m\u001b[0;34m,\u001b[0m \u001b[0;34m**\u001b[0m\u001b[0mcheck_params\u001b[0m\u001b[0;34m)\u001b[0m\u001b[0;34m\u001b[0m\u001b[0;34m\u001b[0m\u001b[0m\n\u001b[0m\u001b[1;32m    562\u001b[0m             \u001b[0mout\u001b[0m \u001b[0;34m=\u001b[0m \u001b[0mX\u001b[0m\u001b[0;34m\u001b[0m\u001b[0;34m\u001b[0m\u001b[0m\n\u001b[1;32m    563\u001b[0m         \u001b[0;32melif\u001b[0m \u001b[0mno_val_X\u001b[0m \u001b[0;32mand\u001b[0m \u001b[0;32mnot\u001b[0m \u001b[0mno_val_y\u001b[0m\u001b[0;34m:\u001b[0m\u001b[0;34m\u001b[0m\u001b[0;34m\u001b[0m\u001b[0m\n",
      "\u001b[0;32m~/miniforge3/lib/python3.9/site-packages/sklearn/utils/validation.py\u001b[0m in \u001b[0;36mcheck_array\u001b[0;34m(array, accept_sparse, accept_large_sparse, dtype, order, copy, force_all_finite, ensure_2d, allow_nd, ensure_min_samples, ensure_min_features, estimator)\u001b[0m\n\u001b[1;32m    790\u001b[0m \u001b[0;34m\u001b[0m\u001b[0m\n\u001b[1;32m    791\u001b[0m         \u001b[0;32mif\u001b[0m \u001b[0mforce_all_finite\u001b[0m\u001b[0;34m:\u001b[0m\u001b[0;34m\u001b[0m\u001b[0;34m\u001b[0m\u001b[0m\n\u001b[0;32m--> 792\u001b[0;31m             \u001b[0m_assert_all_finite\u001b[0m\u001b[0;34m(\u001b[0m\u001b[0marray\u001b[0m\u001b[0;34m,\u001b[0m \u001b[0mallow_nan\u001b[0m\u001b[0;34m=\u001b[0m\u001b[0mforce_all_finite\u001b[0m \u001b[0;34m==\u001b[0m \u001b[0;34m\"allow-nan\"\u001b[0m\u001b[0;34m)\u001b[0m\u001b[0;34m\u001b[0m\u001b[0;34m\u001b[0m\u001b[0m\n\u001b[0m\u001b[1;32m    793\u001b[0m \u001b[0;34m\u001b[0m\u001b[0m\n\u001b[1;32m    794\u001b[0m     \u001b[0;32mif\u001b[0m \u001b[0mensure_min_samples\u001b[0m \u001b[0;34m>\u001b[0m \u001b[0;36m0\u001b[0m\u001b[0;34m:\u001b[0m\u001b[0;34m\u001b[0m\u001b[0;34m\u001b[0m\u001b[0m\n",
      "\u001b[0;32m~/miniforge3/lib/python3.9/site-packages/sklearn/utils/validation.py\u001b[0m in \u001b[0;36m_assert_all_finite\u001b[0;34m(X, allow_nan, msg_dtype)\u001b[0m\n\u001b[1;32m    112\u001b[0m         ):\n\u001b[1;32m    113\u001b[0m             \u001b[0mtype_err\u001b[0m \u001b[0;34m=\u001b[0m \u001b[0;34m\"infinity\"\u001b[0m \u001b[0;32mif\u001b[0m \u001b[0mallow_nan\u001b[0m \u001b[0;32melse\u001b[0m \u001b[0;34m\"NaN, infinity\"\u001b[0m\u001b[0;34m\u001b[0m\u001b[0;34m\u001b[0m\u001b[0m\n\u001b[0;32m--> 114\u001b[0;31m             raise ValueError(\n\u001b[0m\u001b[1;32m    115\u001b[0m                 msg_err.format(\n\u001b[1;32m    116\u001b[0m                     \u001b[0mtype_err\u001b[0m\u001b[0;34m,\u001b[0m \u001b[0mmsg_dtype\u001b[0m \u001b[0;32mif\u001b[0m \u001b[0mmsg_dtype\u001b[0m \u001b[0;32mis\u001b[0m \u001b[0;32mnot\u001b[0m \u001b[0;32mNone\u001b[0m \u001b[0;32melse\u001b[0m \u001b[0mX\u001b[0m\u001b[0;34m.\u001b[0m\u001b[0mdtype\u001b[0m\u001b[0;34m\u001b[0m\u001b[0;34m\u001b[0m\u001b[0m\n",
      "\u001b[0;31mValueError\u001b[0m: Input contains NaN, infinity or a value too large for dtype('float64')."
     ]
    }
   ],
   "source": [
    "model_social_sim_user_rating_on_book, mse, r_sq, accuracy, ber = testModel(feature_social_sim_user_rating_on_book)"
   ]
  },
  {
   "cell_type": "code",
   "execution_count": 440,
   "id": "83488495",
   "metadata": {},
   "outputs": [],
   "source": [
    "Xtrain = np.array( [feature_social_sim_user_rating_on_book(d) for d in train_data] )\n",
    "Xtest = np.array( [feature_social_sim_user_rating_on_book(d) for d in test_data] )\n"
   ]
  },
  {
   "cell_type": "code",
   "execution_count": 441,
   "id": "f44bbe1d",
   "metadata": {},
   "outputs": [],
   "source": [
    "\n",
    "Ytrain = np.array( [d['stars'] for d in train_data] )\n",
    "Ytest = np.array( [d['stars'] for d in test_data] )"
   ]
  },
  {
   "cell_type": "code",
   "execution_count": 442,
   "id": "19155059",
   "metadata": {},
   "outputs": [
    {
     "data": {
      "text/plain": [
       "Ridge(alpha=10000, fit_intercept=False)"
      ]
     },
     "execution_count": 442,
     "metadata": {},
     "output_type": "execute_result"
    }
   ],
   "source": [
    "model = linear_model.Ridge(alpha=10000, fit_intercept=False)\n",
    "model.fit(Xtrain, Ytrain)"
   ]
  },
  {
   "cell_type": "code",
   "execution_count": 443,
   "id": "061ac997",
   "metadata": {},
   "outputs": [
    {
     "data": {
      "text/plain": [
       "0.8451149857472132"
      ]
     },
     "execution_count": 443,
     "metadata": {},
     "output_type": "execute_result"
    }
   ],
   "source": [
    "Ypred = model.predict(Xtest)\n",
    "MSE(Ypred, Ytest)"
   ]
  },
  {
   "cell_type": "code",
   "execution_count": 444,
   "id": "2adc13e8",
   "metadata": {},
   "outputs": [
    {
     "data": {
      "text/plain": [
       "0.4969897860005439"
      ]
     },
     "execution_count": 444,
     "metadata": {},
     "output_type": "execute_result"
    }
   ],
   "source": [
    "Ypred_train = model.predict(Xtrain)\n",
    "MSE(Ypred_train, Ytrain)"
   ]
  },
  {
   "cell_type": "code",
   "execution_count": null,
   "id": "fb71b27b",
   "metadata": {},
   "outputs": [],
   "source": []
  }
 ],
 "metadata": {
  "kernelspec": {
   "display_name": "Python 3 (ipykernel)",
   "language": "python",
   "name": "python3"
  },
  "language_info": {
   "codemirror_mode": {
    "name": "ipython",
    "version": 3
   },
   "file_extension": ".py",
   "mimetype": "text/x-python",
   "name": "python",
   "nbconvert_exporter": "python",
   "pygments_lexer": "ipython3",
   "version": "3.9.7"
  }
 },
 "nbformat": 4,
 "nbformat_minor": 5
}
