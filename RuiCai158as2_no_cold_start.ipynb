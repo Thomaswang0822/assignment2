{
 "cells": [
  {
   "cell_type": "code",
   "execution_count": 1,
   "id": "8c066675",
   "metadata": {},
   "outputs": [],
   "source": [
    "import gzip\n",
    "from collections import defaultdict\n",
    "import math\n",
    "import scipy.optimize\n",
    "import numpy\n",
    "import string\n",
    "import random\n",
    "from sklearn import linear_model\n",
    "import dateutil.parser as parser\n",
    "import numpy as np\n",
    "from matplotlib import pyplot as plt"
   ]
  },
  {
   "cell_type": "code",
   "execution_count": 2,
   "id": "53328121",
   "metadata": {},
   "outputs": [],
   "source": [
    "def parse(path):\n",
    "    g = open(path, 'r')\n",
    "    for l in g:\n",
    "        yield eval(l)\n",
    "\n",
    "### Evaluation metrics:\n",
    "def MSE(Y1, Y2):\n",
    "    return np.mean((Y1-Y2)**2)\n",
    "\n",
    "def binary_error_rate(Ypred, Ytest):\n",
    "    # Check binary error rate, see report section 2\n",
    "    TP = sum( np.logical_and(Ypred>=4.0, Ytest>=4.0) )\n",
    "    FP = sum( np.logical_and(Ypred>=4.0, Ytest<4.0) )\n",
    "    TN = sum( np.logical_and(Ypred<4.0, Ytest<4.0) )\n",
    "    FN = sum( np.logical_and(Ypred<4.0, Ytest>=4.0) )\n",
    "\n",
    "    assert TP+FP+TN+FN == len(Ytest)\n",
    "\n",
    "    Accuracy = (TP + TN) / len(Ytest)\n",
    "    BER = 1 - 0.5*(TP / (TP + FN) + TN / (TN + FP))\n",
    "    print(f\"TP:{TP}, FP:{FP}, TN:{TN}, FN:{FN}\")\n",
    "    print(f\"Accuracy:{Accuracy}, BER:{BER}\")\n",
    "    \n",
    "    \n",
    "def round_predictions(predictions):\n",
    "    '''\n",
    "    Round predictions to the nearest integer\n",
    "    '''\n",
    "    rounded_predictions = np.zeros_like(predictions)\n",
    "    for i, pred in enumerate(predictions):\n",
    "        rounded_predictions[i] = int(round(pred))\n",
    "    return rounded_predictions\n",
    "\n",
    "def Jaccard(s1, s2):\n",
    "    numer = len(s1.intersection(s2))\n",
    "    denom = len(s1.union(s2))\n",
    "    if denom == 0:\n",
    "        return 0\n",
    "    return numer / denom"
   ]
  },
  {
   "cell_type": "code",
   "execution_count": 3,
   "id": "0dcf5146",
   "metadata": {},
   "outputs": [
    {
     "name": "stdout",
     "output_type": "stream",
     "text": [
      "Total number of reviews with a rating: 1383597\n"
     ]
    },
    {
     "data": {
      "text/plain": [
       "{'work': '3206242',\n",
       " 'flags': [],\n",
       " 'unixtime': 1194393600,\n",
       " 'stars': 5.0,\n",
       " 'nhelpful': 0,\n",
       " 'time': 'Nov 7, 2007',\n",
       " 'user': 'van_stef',\n",
       " 'length': 83}"
      ]
     },
     "execution_count": 3,
     "metadata": {},
     "output_type": "execute_result"
    }
   ],
   "source": [
    "dataDir = \"/Users/cairui/Downloads/lthing_data/\"\n",
    "fileName = \"reviews.json\"\n",
    "# review data\n",
    "data = []\n",
    "for d in parse(dataDir + fileName):\n",
    "    # filter review without rating\n",
    "    if ('stars' not in d) or d['stars'] == None: continue\n",
    "    # or without valid date\n",
    "    if ('unixtime' not in d) or (d['unixtime'] == None) or (d['unixtime'] == -86400): continue\n",
    "\n",
    "    # for this moment, we don't need actual text\n",
    "    d['length'] = len(d['comment']) # store the length\n",
    "    del d['comment']\n",
    "    \n",
    "    # train and test\n",
    "    data.append(d)\n",
    "\n",
    "print(f\"Total number of reviews with a rating: {len(data)}\")\n",
    "data[0]"
   ]
  },
  {
   "cell_type": "code",
   "execution_count": 5,
   "id": "6ca21566",
   "metadata": {},
   "outputs": [
    {
     "name": "stdout",
     "output_type": "stream",
     "text": [
      "3.7650352301523946 3.9681081288404285\n"
     ]
    }
   ],
   "source": [
    "reviewsPerUser = defaultdict(list)\n",
    "reviewsPerItem = defaultdict(list)\n",
    "usersPerItem = defaultdict(set)\n",
    "itemsPerUser = defaultdict(set)\n",
    "# very likely to have same ratings, so use list\n",
    "ratingsPerItem = defaultdict(list)\n",
    "ratingsPerUser = defaultdict(list)\n",
    "\n",
    "# Each User has a list of length 3: nhelpful, #abuse, #not_a_review\n",
    "recordPerUser = defaultdict(lambda:[0,0,0])\n",
    "\n",
    "for d in data:\n",
    "    \n",
    "    u, i, r, dt = d['user'], d['work'], d['stars'], d['unixtime']\n",
    "    reviewsPerUser[u].append(d)\n",
    "    reviewsPerItem[i].append(d)\n",
    "    usersPerItem[i].add(u)\n",
    "    itemsPerUser[u].add(i)\n",
    "    ratingsPerItem[i].append(r)\n",
    "    ratingsPerUser[u].append(r)\n",
    "    \n",
    "    if d['nhelpful']:\n",
    "        recordPerUser[u][0] += d['nhelpful']\n",
    "    if d['flags']:\n",
    "        if 'abuse' in d['flags']:\n",
    "            recordPerUser[u][1] += 1\n",
    "        if 'not_a_review' in d['flags']:\n",
    "            recordPerUser[u][2] += 1\n",
    "\n",
    "# calculate 2 global averages for cold-start user or book: average of each user's/book's average ratings\n",
    "avgBookRating = sum( sum(ratingsPerItem[i])/len(ratingsPerItem[i]) for i in ratingsPerItem)/len(ratingsPerItem)\n",
    "avgUserRating = sum( sum(ratingsPerUser[u])/len(ratingsPerUser[u]) for u in ratingsPerUser)/len(ratingsPerUser)\n",
    "print(avgBookRating, avgUserRating)"
   ]
  },
  {
   "cell_type": "code",
   "execution_count": 56,
   "id": "5446d0da",
   "metadata": {},
   "outputs": [],
   "source": [
    "train_data = []\n",
    "test_data = []\n",
    "for u in reviewsPerUser:\n",
    "    cut = int(len(reviewsPerUser[u]) * 0.8)\n",
    "    for r in reviewsPerUser[u][:cut]:\n",
    "        train_data.append(r)\n",
    "    for r in reviewsPerUser[u][cut:]:\n",
    "        test_data.append(r)"
   ]
  },
  {
   "cell_type": "code",
   "execution_count": 57,
   "id": "c10f7619",
   "metadata": {},
   "outputs": [
    {
     "data": {
      "text/plain": [
       "1069138"
      ]
     },
     "execution_count": 57,
     "metadata": {},
     "output_type": "execute_result"
    }
   ],
   "source": [
    "len(train_data)"
   ]
  },
  {
   "cell_type": "code",
   "execution_count": 58,
   "id": "107ec5f1",
   "metadata": {},
   "outputs": [
    {
     "data": {
      "text/plain": [
       "0.7727235604008971"
      ]
     },
     "execution_count": 58,
     "metadata": {},
     "output_type": "execute_result"
    }
   ],
   "source": [
    "len(train_data) / 1383597"
   ]
  },
  {
   "cell_type": "code",
   "execution_count": 59,
   "id": "a5eba031",
   "metadata": {},
   "outputs": [],
   "source": [
    "itemsTrain = set()\n",
    "for d in train_data:\n",
    "    i = d['work']\n",
    "    itemsTrain.add(i)"
   ]
  },
  {
   "cell_type": "code",
   "execution_count": 60,
   "id": "f3198346",
   "metadata": {},
   "outputs": [],
   "source": [
    "itemsTest = set()\n",
    "for d in test_data:\n",
    "    i = d['work']\n",
    "    itemsTest.add(i)"
   ]
  },
  {
   "cell_type": "code",
   "execution_count": 63,
   "id": "8892cc86",
   "metadata": {},
   "outputs": [
    {
     "data": {
      "text/plain": [
       "55178"
      ]
     },
     "execution_count": 63,
     "metadata": {},
     "output_type": "execute_result"
    }
   ],
   "source": [
    "len(itemsTest) - len(itemsTrain.intersection(itemsTest))"
   ]
  },
  {
   "cell_type": "code",
   "execution_count": 64,
   "id": "935eea91",
   "metadata": {},
   "outputs": [],
   "source": [
    "new_test_data = []\n",
    "for idx in range(0, len(test_data)):\n",
    "    i = test_data[idx]['work']\n",
    "    if i not in itemsTrain:\n",
    "        train_data.append(test_data[idx])\n",
    "        itemsTrain.add(i)\n",
    "    else:\n",
    "        new_test_data.append(test_data[idx])\n",
    "del test_data\n",
    "test_data = new_test_data\n",
    "del new_test_data"
   ]
  },
  {
   "cell_type": "code",
   "execution_count": 65,
   "id": "9983c7e7",
   "metadata": {},
   "outputs": [
    {
     "data": {
      "text/plain": [
       "259281"
      ]
     },
     "execution_count": 65,
     "metadata": {},
     "output_type": "execute_result"
    }
   ],
   "source": [
    "len(test_data)"
   ]
  },
  {
   "cell_type": "code",
   "execution_count": 66,
   "id": "b7569101",
   "metadata": {},
   "outputs": [
    {
     "data": {
      "text/plain": [
       "0.8126036699992845"
      ]
     },
     "execution_count": 66,
     "metadata": {},
     "output_type": "execute_result"
    }
   ],
   "source": [
    "len(train_data) / 1383597"
   ]
  },
  {
   "cell_type": "code",
   "execution_count": 67,
   "id": "d7252d5f",
   "metadata": {},
   "outputs": [
    {
     "data": {
      "text/plain": [
       "0"
      ]
     },
     "execution_count": 67,
     "metadata": {},
     "output_type": "execute_result"
    }
   ],
   "source": [
    "itemsTest = set()\n",
    "for d in test_data:\n",
    "    i = d['work']\n",
    "    itemsTest.add(i)\n",
    "len(itemsTest) - len(itemsTrain.intersection(itemsTest))"
   ]
  },
  {
   "cell_type": "code",
   "execution_count": null,
   "id": "3d0f2426",
   "metadata": {},
   "outputs": [],
   "source": []
  }
 ],
 "metadata": {
  "kernelspec": {
   "display_name": "Python 3 (ipykernel)",
   "language": "python",
   "name": "python3"
  },
  "language_info": {
   "codemirror_mode": {
    "name": "ipython",
    "version": 3
   },
   "file_extension": ".py",
   "mimetype": "text/x-python",
   "name": "python",
   "nbconvert_exporter": "python",
   "pygments_lexer": "ipython3",
   "version": "3.9.7"
  }
 },
 "nbformat": 4,
 "nbformat_minor": 5
}
