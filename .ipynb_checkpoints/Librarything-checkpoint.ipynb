{
 "cells": [
  {
   "cell_type": "code",
   "execution_count": 1,
   "id": "7b4f39fb",
   "metadata": {},
   "outputs": [],
   "source": [
    "import gzip\n",
    "from collections import defaultdict\n",
    "import math\n",
    "import scipy.optimize\n",
    "import numpy\n",
    "import string\n",
    "import random\n",
    "from sklearn import linear_model\n",
    "import dateutil.parser as parser\n",
    "import numpy as np\n",
    "from matplotlib import pyplot as plt"
   ]
  },
  {
   "cell_type": "code",
   "execution_count": 4,
   "id": "41cb4df4",
   "metadata": {},
   "outputs": [],
   "source": [
    "def parse(path):\n",
    "    g = open(path, 'r')\n",
    "    for l in g:\n",
    "        yield eval(l)"
   ]
  },
  {
   "cell_type": "code",
   "execution_count": 13,
   "id": "694e0da4",
   "metadata": {},
   "outputs": [
    {
     "name": "stdout",
     "output_type": "stream",
     "text": [
      "207070\n"
     ]
    },
    {
     "data": {
      "text/plain": [
       "{'work': '9910140',\n",
       " 'flags': 1,\n",
       " 'unixtime': 1283472000,\n",
       " 'nhelpful': 0,\n",
       " 'time': 'Sep 3, 2010',\n",
       " 'comment': 'REALLY good book!',\n",
       " 'user': 'Bailette25'}"
      ]
     },
     "execution_count": 13,
     "metadata": {},
     "output_type": "execute_result"
    }
   ],
   "source": [
    "count = 0\n",
    "train_data = []\n",
    "test_data = []\n",
    "\n",
    "usersPerItem = defaultdict(set)\n",
    "itemsPerUser = defaultdict(set)\n",
    "for d in parse(\"./lthing_data/reviews.json\"):\n",
    "    # handle normal review (majority) and 'abuse' or 'not a review' flag\n",
    "    if not d['flags']:\n",
    "        d['flags'] = 0\n",
    "    else:\n",
    "        d['flags'] = 1\n",
    "    \n",
    "    # train and test\n",
    "    if count < 1500000:\n",
    "        train_data.append(d)\n",
    "        usersPerItem[d['work']].add(d['user'])\n",
    "        itemsPerUser[d['user']].add(d['work'])\n",
    "    else:\n",
    "        test_data.append(d)\n",
    "    count += 1\n",
    "\n",
    "print(len(test_data))\n",
    "test_data[1]"
   ]
  },
  {
   "cell_type": "markdown",
   "id": "0e8cdd2b",
   "metadata": {},
   "source": [
    "# baseline model"
   ]
  },
  {
   "cell_type": "markdown",
   "id": "6df1f2d1",
   "metadata": {},
   "source": [
    "### A relevant simple baseline that can be used for comparisonis predicting \"would read\" based on the popularity of thebook, considering a user is likely to read a book if that bookis popular in general."
   ]
  },
  {
   "cell_type": "code",
   "execution_count": 15,
   "id": "44fc4d08",
   "metadata": {},
   "outputs": [
    {
     "data": {
      "text/plain": [
       "464649"
      ]
     },
     "execution_count": 15,
     "metadata": {},
     "output_type": "execute_result"
    }
   ],
   "source": [
    "len(usersPerItem)\n",
    "# len(itemsPerUser)"
   ]
  },
  {
   "cell_type": "code",
   "execution_count": 16,
   "id": "4994f11a",
   "metadata": {},
   "outputs": [
    {
     "data": {
      "text/plain": [
       "79849"
      ]
     },
     "execution_count": 16,
     "metadata": {},
     "output_type": "execute_result"
    }
   ],
   "source": [
    "len(itemsPerUser)"
   ]
  },
  {
   "cell_type": "code",
   "execution_count": 36,
   "id": "4f356c28",
   "metadata": {},
   "outputs": [
    {
     "data": {
      "text/plain": [
       "154882"
      ]
     },
     "execution_count": 36,
     "metadata": {},
     "output_type": "execute_result"
    }
   ],
   "source": [
    "mostpopular = {item for item in usersPerItem if len(usersPerItem[item]) > 1}\n",
    "len(mostpopular)"
   ]
  },
  {
   "cell_type": "code",
   "execution_count": null,
   "id": "81739ac0",
   "metadata": {},
   "outputs": [],
   "source": [
    "### About one third of books have more than 1 reader, and we consider them as popular books"
   ]
  },
  {
   "cell_type": "markdown",
   "id": "12bc18e1",
   "metadata": {},
   "source": [
    "readCount_book.sort(reverse=True)"
   ]
  },
  {
   "cell_type": "markdown",
   "id": "5547da8e",
   "metadata": {},
   "source": [
    "mostpopular = []\n",
    "count = 0\n",
    "for readCount, item in readCount_book:\n",
    "    mostpopular.append(item)\n",
    "    count += readCount\n",
    "    if count >= total_inter*0.6:\n",
    "        print(\"Early break\")\n",
    "        break\n",
    "\n",
    "mostpopular = set(mostpopular)\n",
    "len(mostpopular)"
   ]
  },
  {
   "cell_type": "code",
   "execution_count": 32,
   "id": "779e855c",
   "metadata": {},
   "outputs": [
    {
     "data": {
      "text/plain": [
       "414140"
      ]
     },
     "execution_count": 32,
     "metadata": {},
     "output_type": "execute_result"
    }
   ],
   "source": [
    "# Construct baseline test data\n",
    "allbooks = list(usersPerItem.keys())\n",
    "Xtest = []\n",
    "Ytest = []\n",
    "for d in test_data:\n",
    "    u,i = d['user'], d['work']\n",
    "    Xtest.append((u,i))\n",
    "    Ytest.append(1)\n",
    "    i2 = random.choice(allbooks)\n",
    "    while u in itemsPerUser and i2 in itemsPerUser[u]:\n",
    "        # sampled another book this user has read\n",
    "        i2 = random.choice(allbooks)\n",
    "    Xtest.append((u,i2))\n",
    "    Ytest.append(0)\n",
    "    \n",
    "len(Xtest)"
   ]
  },
  {
   "cell_type": "code",
   "execution_count": 33,
   "id": "bdfd6d61",
   "metadata": {},
   "outputs": [
    {
     "data": {
      "text/plain": [
       "414140"
      ]
     },
     "execution_count": 33,
     "metadata": {},
     "output_type": "execute_result"
    }
   ],
   "source": [
    "Ypred = [i in mostpopular for u,i in Xtest]\n",
    "len(Ypred)"
   ]
  },
  {
   "cell_type": "code",
   "execution_count": 34,
   "id": "85dc87f4",
   "metadata": {},
   "outputs": [
    {
     "data": {
      "text/plain": [
       "0.6904911382624234"
      ]
     },
     "execution_count": 34,
     "metadata": {},
     "output_type": "execute_result"
    }
   ],
   "source": [
    "sum(a==b for a,b in zip(Ytest,Ypred)) / len(Ypred)"
   ]
  },
  {
   "cell_type": "code",
   "execution_count": null,
   "id": "007aefa4",
   "metadata": {},
   "outputs": [],
   "source": []
  }
 ],
 "metadata": {
  "kernelspec": {
   "display_name": "Python 3",
   "language": "python",
   "name": "python3"
  },
  "language_info": {
   "codemirror_mode": {
    "name": "ipython",
    "version": 3
   },
   "file_extension": ".py",
   "mimetype": "text/x-python",
   "name": "python",
   "nbconvert_exporter": "python",
   "pygments_lexer": "ipython3",
   "version": "3.8.8"
  }
 },
 "nbformat": 4,
 "nbformat_minor": 5
}
